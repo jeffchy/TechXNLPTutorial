{
 "cells": [
  {
   "cell_type": "code",
   "execution_count": 1,
   "metadata": {},
   "outputs": [],
   "source": [
    "import torch\n",
    "import numpy as np\n",
    "from torch import nn\n",
    "from tqdm.notebook import tqdm"
   ]
  },
  {
   "cell_type": "markdown",
   "metadata": {},
   "source": [
    "# create data: features, labels"
   ]
  },
  {
   "cell_type": "code",
   "execution_count": 2,
   "metadata": {},
   "outputs": [],
   "source": [
    "N = 100\n",
    "num_features = 20\n",
    "X = torch.randn((N, num_features))"
   ]
  },
  {
   "cell_type": "code",
   "execution_count": 3,
   "metadata": {},
   "outputs": [
    {
     "data": {
      "text/plain": [
       "tensor([[-1.2896, -1.1069, -1.0045,  ..., -2.0140,  0.4217,  1.7252],\n",
       "        [-0.0417,  0.0668,  0.8885,  ..., -1.0643,  1.8484, -0.2358],\n",
       "        [ 2.5466,  1.1229, -1.5762,  ...,  1.0475, -3.3223, -0.7077],\n",
       "        ...,\n",
       "        [-0.2422,  0.1317,  0.2686,  ..., -0.3201, -0.1812, -1.1544],\n",
       "        [-0.6424,  0.0043, -1.4823,  ...,  0.0584, -0.3330, -0.0067],\n",
       "        [ 0.0704,  0.3588, -1.1297,  ..., -0.4796,  0.7066, -2.3801]])"
      ]
     },
     "execution_count": 3,
     "metadata": {},
     "output_type": "execute_result"
    }
   ],
   "source": [
    "X"
   ]
  },
  {
   "cell_type": "code",
   "execution_count": 4,
   "metadata": {},
   "outputs": [
    {
     "data": {
      "text/plain": [
       "torch.Size([100, 20])"
      ]
     },
     "execution_count": 4,
     "metadata": {},
     "output_type": "execute_result"
    }
   ],
   "source": [
    "X.shape"
   ]
  },
  {
   "cell_type": "code",
   "execution_count": 5,
   "metadata": {},
   "outputs": [
    {
     "data": {
      "text/plain": [
       "<function Tensor.type>"
      ]
     },
     "execution_count": 5,
     "metadata": {},
     "output_type": "execute_result"
    }
   ],
   "source": [
    "X.type"
   ]
  },
  {
   "cell_type": "code",
   "execution_count": 6,
   "metadata": {},
   "outputs": [],
   "source": [
    "y = torch.rand((N))"
   ]
  },
  {
   "cell_type": "code",
   "execution_count": 7,
   "metadata": {},
   "outputs": [
    {
     "data": {
      "text/plain": [
       "tensor([0.3695, 0.8351, 0.2579, 0.7028, 0.0543, 0.8436, 0.4040, 0.1677, 0.4922,\n",
       "        0.2369, 0.5089, 0.8838, 0.1383, 0.7702, 0.9316, 0.7485, 0.3778, 0.1149,\n",
       "        0.3046, 0.4476, 0.2030, 0.6871, 0.4479, 0.9636, 0.7867, 0.5781, 0.8497,\n",
       "        0.8177, 0.1423, 0.5302, 0.3629, 0.6704, 0.7283, 0.7746, 0.6212, 0.4761,\n",
       "        0.5823, 0.6072, 0.5950, 0.1035, 0.7029, 0.0188, 0.5501, 0.4739, 0.1051,\n",
       "        0.4805, 0.2968, 0.8962, 0.0362, 0.9507, 0.2745, 0.5884, 0.5549, 0.5248,\n",
       "        0.7867, 0.8330, 0.3301, 0.5267, 0.2334, 0.0239, 0.7162, 0.1095, 0.7487,\n",
       "        0.5399, 0.2069, 0.8262, 0.6216, 0.3629, 0.1052, 0.8212, 0.5020, 0.2292,\n",
       "        0.7242, 0.6021, 0.8399, 0.3205, 0.0557, 0.5681, 0.5555, 0.9932, 0.3844,\n",
       "        0.5067, 0.1341, 0.2920, 0.5896, 0.4203, 0.9067, 0.2252, 0.0882, 0.7882,\n",
       "        0.2191, 0.4613, 0.7739, 0.4756, 0.9649, 0.7056, 0.0246, 0.1151, 0.1499,\n",
       "        0.5408])"
      ]
     },
     "execution_count": 7,
     "metadata": {},
     "output_type": "execute_result"
    }
   ],
   "source": [
    "y"
   ]
  },
  {
   "cell_type": "markdown",
   "metadata": {},
   "source": [
    "# create a model"
   ]
  },
  {
   "cell_type": "code",
   "execution_count": 8,
   "metadata": {},
   "outputs": [],
   "source": [
    "class Regression(nn.Module):\n",
    "    def __init__(self, num_features):\n",
    "        super(Regression, self).__init__()\n",
    "        self.num_features = num_features\n",
    "        self.linear = nn.Linear(self.num_features, 1)\n",
    "        self.relu = nn.ReLU()\n",
    "        self.loss = nn.MSELoss()\n",
    "        \n",
    "    def forward(self, x, y):\n",
    "        out = self.relu(self.linear(x))\n",
    "        loss = self.loss(out, y)\n",
    "        return loss"
   ]
  },
  {
   "cell_type": "code",
   "execution_count": 9,
   "metadata": {},
   "outputs": [],
   "source": [
    "lr_model = Regression(num_features)"
   ]
  },
  {
   "cell_type": "code",
   "execution_count": 10,
   "metadata": {},
   "outputs": [
    {
     "name": "stderr",
     "output_type": "stream",
     "text": [
      "/Users/jeff/opt/anaconda3/lib/python3.8/site-packages/torch/nn/modules/loss.py:528: UserWarning: Using a target size (torch.Size([100])) that is different to the input size (torch.Size([100, 1])). This will likely lead to incorrect results due to broadcasting. Please ensure they have the same size.\n",
      "  return F.mse_loss(input, target, reduction=self.reduction)\n"
     ]
    }
   ],
   "source": [
    "loss = lr_model(X, y)\n",
    "loss.backward()"
   ]
  },
  {
   "cell_type": "code",
   "execution_count": 11,
   "metadata": {},
   "outputs": [
    {
     "name": "stdout",
     "output_type": "stream",
     "text": [
      "Parameter containing:\n",
      "tensor([[-0.0005,  0.1336, -0.0461,  0.0992,  0.2051,  0.0473,  0.0206, -0.0356,\n",
      "         -0.0534, -0.1764,  0.0423, -0.0727, -0.0923, -0.1171, -0.1605,  0.1629,\n",
      "          0.0246,  0.0221,  0.1998,  0.1101]], requires_grad=True) tensor([[-0.0368, -0.0480,  0.0586,  0.0028, -0.0285, -0.0340,  0.0464, -0.0187,\n",
      "         -0.0549, -0.0250,  0.0006, -0.0628, -0.0125, -0.0709,  0.0221,  0.1224,\n",
      "         -0.0203, -0.0673,  0.0577, -0.0414]])\n",
      "Parameter containing:\n",
      "tensor([-0.0526], requires_grad=True) tensor([-0.1333])\n"
     ]
    }
   ],
   "source": [
    "for params in lr_model.parameters():\n",
    "    print(params, params.grad)"
   ]
  },
  {
   "cell_type": "markdown",
   "metadata": {},
   "source": [
    "# training"
   ]
  },
  {
   "cell_type": "code",
   "execution_count": 12,
   "metadata": {},
   "outputs": [],
   "source": [
    "learning_rate = 0.1\n",
    "lr_model = Regression(num_features)\n",
    "optimizer = torch.optim.Adam(lr_model.parameters(), lr=learning_rate)\n",
    "epoch = 10"
   ]
  },
  {
   "cell_type": "code",
   "execution_count": 13,
   "metadata": {},
   "outputs": [
    {
     "data": {
      "application/vnd.jupyter.widget-view+json": {
       "model_id": "c25dd90f5b1746d6951105269123e634",
       "version_major": 2,
       "version_minor": 0
      },
      "text/plain": [
       "  0%|          | 0/10 [00:00<?, ?it/s]"
      ]
     },
     "metadata": {},
     "output_type": "display_data"
    },
    {
     "name": "stdout",
     "output_type": "stream",
     "text": [
      "0.09877490252256393\n"
     ]
    }
   ],
   "source": [
    "loss_list = []\n",
    "for i in tqdm(range(epoch)):\n",
    "    loss = lr_model(X, y)\n",
    "    loss_list.append(loss.item())\n",
    "#     print(\"loss: {}\".format(loss.item()))\n",
    "    optimizer.zero_grad()\n",
    "    loss.backward()\n",
    "    optimizer.step()\n",
    "print(min(loss_list))"
   ]
  },
  {
   "cell_type": "code",
   "execution_count": 14,
   "metadata": {},
   "outputs": [],
   "source": [
    "import seaborn as sns\n",
    "import matplotlib.pyplot as plt"
   ]
  },
  {
   "cell_type": "code",
   "execution_count": 15,
   "metadata": {},
   "outputs": [
    {
     "data": {
      "text/plain": [
       "[<matplotlib.lines.Line2D at 0x7fbdc0aa4550>]"
      ]
     },
     "execution_count": 15,
     "metadata": {},
     "output_type": "execute_result"
    },
    {
     "data": {
      "image/png": "[encoded data removed]",
      "text/plain": [
       "<Figure size 432x288 with 1 Axes>"
      ]
     },
     "metadata": {
      "needs_background": "light"
     },
     "output_type": "display_data"
    }
   ],
   "source": [
    "plt.plot(loss_list)"
   ]
  },
  {
   "cell_type": "code",
   "execution_count": 16,
   "metadata": {},
   "outputs": [],
   "source": [
    "class RegressionMLP(nn.Module):\n",
    "    def __init__(self, num_features):\n",
    "        super(RegressionMLP, self).__init__()\n",
    "        self.num_features = num_features\n",
    "        self.linear1 = nn.Linear(self.num_features, 5)\n",
    "        self.linear2 = nn.Linear(5, 1)\n",
    "        self.relu = nn.ReLU()\n",
    "        self.loss = nn.MSELoss()\n",
    "        \n",
    "    def forward(self, x, y):\n",
    "        out = self.relu(self.linear2(self.relu(self.linear1(x))))\n",
    "        loss = self.loss(out, y)\n",
    "        return loss"
   ]
  },
  {
   "cell_type": "code",
   "execution_count": 17,
   "metadata": {},
   "outputs": [
    {
     "data": {
      "application/vnd.jupyter.widget-view+json": {
       "model_id": "6ba7784de5e04c928a5fc5071ba324ac",
       "version_major": 2,
       "version_minor": 0
      },
      "text/plain": [
       "  0%|          | 0/10 [00:00<?, ?it/s]"
      ]
     },
     "metadata": {},
     "output_type": "display_data"
    },
    {
     "name": "stdout",
     "output_type": "stream",
     "text": [
      "0.07666045427322388\n"
     ]
    },
    {
     "name": "stderr",
     "output_type": "stream",
     "text": [
      "/Users/jeff/opt/anaconda3/lib/python3.8/site-packages/torch/nn/modules/loss.py:528: UserWarning: Using a target size (torch.Size([100])) that is different to the input size (torch.Size([100, 1])). This will likely lead to incorrect results due to broadcasting. Please ensure they have the same size.\n",
      "  return F.mse_loss(input, target, reduction=self.reduction)\n"
     ]
    }
   ],
   "source": [
    "learning_rate = 0.1\n",
    "epoch = 10\n",
    "\n",
    "lr_model_MLP = RegressionMLP(num_features)\n",
    "optimizer1 = torch.optim.Adam(lr_model_MLP.parameters(), lr=learning_rate)\n",
    "\n",
    "loss_list = []\n",
    "for i in tqdm(range(epoch)):\n",
    "    loss = lr_model_MLP(X, y)\n",
    "    loss_list.append(loss.item())\n",
    "#     print(\"loss: {}\".format(loss.item()))\n",
    "    optimizer1.zero_grad()\n",
    "    loss.backward()\n",
    "    optimizer1.step()\n",
    "print(min(loss_list))"
   ]
  },
  {
   "cell_type": "code",
   "execution_count": 18,
   "metadata": {},
   "outputs": [
    {
     "data": {
      "text/plain": [
       "[<matplotlib.lines.Line2D at 0x7fbdf0580460>]"
      ]
     },
     "execution_count": 18,
     "metadata": {},
     "output_type": "execute_result"
    },
    {
     "data": {
      "image/png": "[encoded data removed]",
      "text/plain": [
       "<Figure size 432x288 with 1 Axes>"
      ]
     },
     "metadata": {
      "needs_background": "light"
     },
     "output_type": "display_data"
    }
   ],
   "source": [
    "plt.plot(loss_list)"
   ]
  },
  {
   "cell_type": "code",
   "execution_count": null,
   "metadata": {},
   "outputs": [],
   "source": []
  },
  {
   "cell_type": "code",
   "execution_count": null,
   "metadata": {},
   "outputs": [],
   "source": []
  },
  {
   "cell_type": "code",
   "execution_count": null,
   "metadata": {},
   "outputs": [],
   "source": []
  },
  {
   "cell_type": "code",
   "execution_count": null,
   "metadata": {},
   "outputs": [],
   "source": []
  }
 ],
 "metadata": {
  "kernelspec": {
   "display_name": "Python 3",
   "language": "python",
   "name": "python3"
  },
  "language_info": {
   "codemirror_mode": {
    "name": "ipython",
    "version": 3
   },
   "file_extension": ".py",
   "mimetype": "text/x-python",
   "name": "python",
   "nbconvert_exporter": "python",
   "pygments_lexer": "ipython3",
   "version": "3.8.8"
  }
 },
 "nbformat": 4,
 "nbformat_minor": 2
}
