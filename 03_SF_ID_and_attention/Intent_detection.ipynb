{
 "cells": [
  {
   "cell_type": "markdown",
   "metadata": {},
   "source": [
    "# Load data and word embeddings"
   ]
  },
  {
   "cell_type": "code",
   "execution_count": 1,
   "metadata": {},
   "outputs": [],
   "source": [
    "import pickle\n",
    "import numpy as np\n",
    "from tqdm.notebook import tqdm"
   ]
  },
  {
   "cell_type": "code",
   "execution_count": 75,
   "metadata": {},
   "outputs": [],
   "source": [
    "dset = pickle.load(open('data/dataset.pkl', 'rb'))\n",
    "emb = pickle.load(open('data/glove.100.emb', 'rb'))\n",
    "t2i, i2t, s2i, i2s, in2i, i2in = dset['t2i'], dset['i2t'], dset['s2i'], dset['i2s'], dset['in2i'], dset['i2in']\n",
    "query_train, slot_train, intent_train = dset['query_train'], dset['slot_train'], dset['intent_train']\n",
    "query_dev, slot_dev, intent_dev = dset['query_dev'], dset['slot_dev'], dset['intent_dev']\n",
    "query_test, slot_test, intent_test = dset['query_test'], dset['slot_test'], dset['intent_test']"
   ]
  },
  {
   "cell_type": "code",
   "execution_count": 76,
   "metadata": {},
   "outputs": [
    {
     "data": {
      "text/plain": [
       "array([ 0.076296 ,  0.46698  ,  0.24043  , -0.54493  , -0.76845  ,\n",
       "        0.26672  ,  0.11216  ,  0.56734  ,  0.076033 , -0.27706  ,\n",
       "        0.45248  ,  0.51724  ,  0.32362  ,  0.091504 ,  0.05634  ,\n",
       "       -0.524    , -0.20721  ,  0.51649  , -0.67075  ,  0.48205  ,\n",
       "        0.28867  ,  0.65157  , -0.48648  , -0.76102  , -0.02283  ,\n",
       "        0.24611  , -0.39278  , -0.73331  ,  0.55839  , -0.33026  ,\n",
       "       -0.19114  ,  0.81568  ,  0.47729  ,  0.092823 ,  0.37974  ,\n",
       "        0.48891  , -0.5457   ,  0.079161 ,  0.76341  , -0.20939  ,\n",
       "        0.057473 , -0.14882  ,  0.019687 , -0.99513  , -0.55138  ,\n",
       "        0.056469 ,  0.041785 , -0.41212  ,  0.18919  , -1.6145   ,\n",
       "       -0.1376   ,  0.080443 ,  0.19311  ,  0.50921  , -0.20389  ,\n",
       "       -2.0158   , -0.086976 ,  0.53815  ,  0.97154  ,  0.77924  ,\n",
       "        0.008696 ,  1.2469   , -1.072    , -0.16083  ,  0.68654  ,\n",
       "        0.20288  ,  0.93638  ,  0.4805   , -0.44977  , -0.16558  ,\n",
       "        0.26256  ,  0.036439 ,  0.11474  , -0.28131  , -0.40037  ,\n",
       "        0.33004  ,  0.0086185, -0.17824  , -0.16929  ,  0.17453  ,\n",
       "        0.074679 , -0.47776  , -0.53119  , -0.52147  , -1.6766   ,\n",
       "       -0.57735  ,  0.19195  , -0.4279   , -0.66215  , -0.15431  ,\n",
       "       -0.11301  , -0.34883  ,  0.4578   , -0.50275  , -0.61201  ,\n",
       "       -0.10673  ,  0.098256 ,  0.18394  ,  0.10698  ,  0.23298  ])"
      ]
     },
     "execution_count": 76,
     "metadata": {},
     "output_type": "execute_result"
    }
   ],
   "source": [
    "emb[0]"
   ]
  },
  {
   "cell_type": "code",
   "execution_count": 77,
   "metadata": {},
   "outputs": [
    {
     "name": "stdout",
     "output_type": "stream",
     "text": [
      "Vocabulary size in dataset: 943\n",
      "Number of sentense class in dataset: 26\n",
      "Number of token class in dataset: 129\n",
      "Word embedding shape VxD: (943, 100)\n"
     ]
    }
   ],
   "source": [
    "print(\"Vocabulary size in dataset: {}\".format(len(t2i)))\n",
    "print(\"Number of sentense class in dataset: {}\".format(len(in2i)))\n",
    "print(\"Number of token class in dataset: {}\".format(len(s2i)))\n",
    "print(\"Word embedding shape VxD: {}\".format(emb.shape))"
   ]
  },
  {
   "cell_type": "code",
   "execution_count": 78,
   "metadata": {},
   "outputs": [],
   "source": [
    "def print_sample(i, query, slot):\n",
    "    print([i2t[k] for k in query[i]], i2in[intent_train[i][0]])\n",
    "    print([i2s[k] for k in slot[i]],  i2in[intent_train[i][0]])"
   ]
  },
  {
   "cell_type": "code",
   "execution_count": 79,
   "metadata": {},
   "outputs": [
    {
     "name": "stdout",
     "output_type": "stream",
     "text": [
      "['bos', 'please', 'list', 'information', 'regarding', 'san', 'francisco', 'airport', 'eos'] airport\n",
      "['o', 'o', 'o', 'o', 'o', 'b-airport_name', 'i-airport_name', 'i-airport_name', 'o'] airport\n"
     ]
    }
   ],
   "source": [
    "print_sample(1, query_train, slot_train)"
   ]
  },
  {
   "cell_type": "code",
   "execution_count": 80,
   "metadata": {},
   "outputs": [
    {
     "name": "stdout",
     "output_type": "stream",
     "text": [
      "['bos', 'show', 'me', 'the', 'flights', 'from', 'oakland', 'to', 'denver', 'eos'] flight\n",
      "['o', 'o', 'o', 'o', 'o', 'o', 'b-fromloc.city_name', 'o', 'b-toloc.city_name', 'o'] flight\n"
     ]
    }
   ],
   "source": [
    "print_sample(2, query_train, slot_train)"
   ]
  },
  {
   "cell_type": "code",
   "execution_count": 81,
   "metadata": {},
   "outputs": [
    {
     "name": "stdout",
     "output_type": "stream",
     "text": [
      "['bos', 'how', 'many', 'fare', 'codes', 'belong', 'to', 'economy', 'class', 'eos'] quantity\n",
      "['o', 'o', 'o', 'o', 'o', 'o', 'o', 'b-economy', 'i-economy', 'o'] quantity\n"
     ]
    }
   ],
   "source": [
    "print_sample(3, query_train, slot_train)"
   ]
  },
  {
   "cell_type": "markdown",
   "metadata": {},
   "source": [
    "# Pad datasets! query and slot"
   ]
  },
  {
   "cell_type": "markdown",
   "metadata": {},
   "source": [
    "We use an additional symbol \"pad\", pad the sentences and query to have same lengths, and record their original length"
   ]
  },
  {
   "cell_type": "code",
   "execution_count": 82,
   "metadata": {},
   "outputs": [],
   "source": [
    "from utils import pad_dataset\n",
    "\n",
    "# add <pad> into the vocabulary\n",
    "i2t[len(i2t)] = '<pad>'\n",
    "t2i['<pad>'] = len(i2t) - 1\n",
    "emb_padded = np.append(emb, np.zeros((1, 100)), axis=0)\n",
    "\n",
    "seq_max_len = 30\n",
    "query_train_padded, train_lengths = pad_dataset(query_train, seq_max_len, t2i['<pad>'])\n",
    "query_dev_padded, dev_lengths = pad_dataset(query_dev, seq_max_len, t2i['<pad>'])\n",
    "query_test_padded, test_lengths = pad_dataset(query_test, seq_max_len, t2i['<pad>'])\n",
    "slot_train_padded, _ = pad_dataset(slot_train, seq_max_len, s2i['o'])\n",
    "slot_dev_padded, _ = pad_dataset(slot_dev, seq_max_len, s2i['o'])\n",
    "slot_test_padded, _ = pad_dataset(slot_test, seq_max_len, s2i['o'])"
   ]
  },
  {
   "cell_type": "code",
   "execution_count": 83,
   "metadata": {},
   "outputs": [
    {
     "name": "stdout",
     "output_type": "stream",
     "text": [
      "original lengths [11, 9, 10, 10, 10, 13, 11, 8, 11, 25]\n",
      "padded lengths [30, 30, 30, 30, 30, 30, 30, 30, 30, 30]\n",
      "example padded query: \n",
      "['bos', 'show', 'me', 'the', 'flights', 'from', 'oakland', 'to', 'denver', 'eos', '<pad>', '<pad>', '<pad>', '<pad>', '<pad>', '<pad>', '<pad>', '<pad>', '<pad>', '<pad>', '<pad>', '<pad>', '<pad>', '<pad>', '<pad>', '<pad>', '<pad>', '<pad>', '<pad>', '<pad>'] flight\n",
      "['o', 'o', 'o', 'o', 'o', 'o', 'b-fromloc.city_name', 'o', 'b-toloc.city_name', 'o', 'o', 'o', 'o', 'o', 'o', 'o', 'o', 'o', 'o', 'o', 'o', 'o', 'o', 'o', 'o', 'o', 'o', 'o', 'o', 'o'] flight\n"
     ]
    }
   ],
   "source": [
    "print(\"original lengths\", [len(query_train[i]) for i in range(10)])\n",
    "print(\"padded lengths\", [len(query_train_padded[i]) for i in range(10)])\n",
    "print(\"example padded query: \")\n",
    "print_sample(2, query_train_padded, slot_train_padded)"
   ]
  },
  {
   "cell_type": "markdown",
   "metadata": {},
   "source": [
    "# dataset and dataloader for slot filling and intent classification"
   ]
  },
  {
   "cell_type": "code",
   "execution_count": 84,
   "metadata": {},
   "outputs": [],
   "source": [
    "config = {\n",
    "    'bz': 10, # batch size\n",
    "    'rnn': 'RNN',\n",
    "    'bidirection': False,\n",
    "    'rnn_hidden_dim': 200,\n",
    "    'epoch': 20,\n",
    "}"
   ]
  },
  {
   "cell_type": "code",
   "execution_count": 85,
   "metadata": {},
   "outputs": [],
   "source": [
    "from torch.utils.data import DataLoader, Dataset"
   ]
  },
  {
   "cell_type": "code",
   "execution_count": 86,
   "metadata": {},
   "outputs": [],
   "source": [
    "class IntentBatchDataset(Dataset):\n",
    "\n",
    "    def __init__(self, query, lengths, intent):\n",
    "        self.dataset = query\n",
    "        self.intent = intent\n",
    "        self.lengths = lengths\n",
    "\n",
    "    def __getitem__(self, idx):\n",
    "\n",
    "        return {\n",
    "            'x': np.array(self.dataset[idx], dtype=np.int32),\n",
    "            'in': np.array(self.intent[idx], dtype=np.int32),\n",
    "            'l': np.array(self.lengths[idx], dtype=np.int32),\n",
    "        }\n",
    "\n",
    "    def __len__(self):\n",
    "        return len(self.dataset)"
   ]
  },
  {
   "cell_type": "code",
   "execution_count": 87,
   "metadata": {},
   "outputs": [],
   "source": [
    "intent_dataset_train = IntentBatchDataset(query_train_padded, train_lengths, intent_train)\n",
    "intent_dataset_dev = IntentBatchDataset(query_dev_padded, dev_lengths, intent_dev)\n",
    "intent_dataset_test = IntentBatchDataset(query_test_padded, test_lengths, intent_test)"
   ]
  },
  {
   "cell_type": "code",
   "execution_count": 88,
   "metadata": {},
   "outputs": [],
   "source": [
    "bz = config['bz']\n",
    "intent_dataloader_train = DataLoader(intent_dataset_train, batch_size=bz)\n",
    "intent_dataloader_dev = DataLoader(intent_dataset_dev, batch_size=bz)\n",
    "intent_dataloader_test = DataLoader(intent_dataset_test, batch_size=bz)"
   ]
  },
  {
   "cell_type": "markdown",
   "metadata": {},
   "source": [
    "# Model for intent classification"
   ]
  },
  {
   "cell_type": "code",
   "execution_count": 89,
   "metadata": {},
   "outputs": [],
   "source": [
    "import torch\n",
    "from torch import nn\n",
    "from torch.nn.utils.rnn import pad_packed_sequence, pack_padded_sequence\n",
    "\n",
    "class IntentNeuralSoftmax(nn.Module):\n",
    "    def __init__(self, pretrained_embed, intent_size, config):\n",
    "        super(IntentNeuralSoftmax, self).__init__()\n",
    "\n",
    "        self.bidirection = config['bidirection']\n",
    "        self.directions = 2 if self.bidirection else 1\n",
    "        self.is_cuda = torch.cuda.is_available()\n",
    "        self.V, self.D = pretrained_embed.shape\n",
    "        self.rnn_type = config['rnn']\n",
    "        self.rnn_hidden_dim = config['rnn_hidden_dim'] // 2 if \\\n",
    "            self.bidirection else config['rnn_hidden_dim'] \n",
    "\n",
    "        self.intent_size = intent_size\n",
    "\n",
    "        self.loss = nn.CrossEntropyLoss()\n",
    "\n",
    "        if self.rnn_type == 'RNN':\n",
    "            self.rnn = nn.RNN(input_size=self.D,\n",
    "                              hidden_size=self.rnn_hidden_dim,\n",
    "                              num_layers=1,\n",
    "                              batch_first=True,\n",
    "                              bidirectional=self.bidirection,\n",
    "                              bias=False)\n",
    "\n",
    "        elif self.rnn_type == 'LSTM':\n",
    "            self.rnn = nn.LSTM(input_size=self.D,\n",
    "                               hidden_size=self.rnn_hidden_dim,\n",
    "                               num_layers=1,\n",
    "                               batch_first=True,\n",
    "                               bidirectional=self.bidirection,\n",
    "                               bias=False)\n",
    "\n",
    "        self.embedding = nn.Embedding.from_pretrained(torch.from_numpy(pretrained_embed).float(),\n",
    "                                                      freeze=True)  # V x D\n",
    "\n",
    "        self.linear_intent = nn.Linear(self.rnn_hidden_dim*self.directions, self.intent_size)\n",
    "\n",
    "    def forward(self, input, label_intent, lengths):\n",
    "        input = self.embedding(input)  # B x L -> B x L x D\n",
    "        pack_padded_seq_input = pack_padded_sequence(input, \n",
    "                                                     lengths.cpu(), \n",
    "                                                     batch_first=True,\n",
    "                                                     enforce_sorted=False)\n",
    "\n",
    "        B, L, D = input.size()\n",
    "\n",
    "        if self.rnn_type in ['RNN']:\n",
    "            output_packed, hn = self.rnn(pack_padded_seq_input)  # B x L x H\n",
    "        elif self.rnn_type == 'LSTM':\n",
    "            output_packed, (hn, cn) = self.rnn(pack_padded_seq_input)  # B x L x H\n",
    "\n",
    "        output_padded, output_lengths = pad_packed_sequence(output_packed, batch_first=True)\n",
    "\n",
    "        # intent classification\n",
    "        last_hidden = output_padded[torch.arange(B), output_lengths-1, :] # B x H\n",
    "        score_intent = self.linear_intent(last_hidden)\n",
    "\n",
    "        loss_intent, pred_labels_intent = \\\n",
    "            self.calculate_intent_loss(score_intent, label_intent)\n",
    "\n",
    "        return loss_intent, pred_labels_intent\n",
    "\n",
    "    def calculate_intent_loss(self, scores_intent, label_intent):\n",
    "        loss = self.loss(scores_intent, label_intent.squeeze())\n",
    "        max_score_intent, pred_labels_intent = scores_intent.max(dim=1)\n",
    "        return loss, pred_labels_intent\n"
   ]
  },
  {
   "cell_type": "markdown",
   "metadata": {},
   "source": [
    "# funciton: validate, train and metrics"
   ]
  },
  {
   "cell_type": "code",
   "execution_count": 90,
   "metadata": {},
   "outputs": [],
   "source": [
    "from utils import eval_acc\n",
    "\n",
    "def val(data, model):\n",
    "    all_pred_intent_label = []\n",
    "    all_true_intent_label = []\n",
    "    all_lengths = []\n",
    "    model.eval()\n",
    "    with torch.no_grad():\n",
    "\n",
    "        for batch in data:\n",
    "\n",
    "            x = batch['x'].long()\n",
    "            label_intent = batch['in'].long()\n",
    "            lengths = batch['l'].long()\n",
    "\n",
    "            loss_intent, pred_intent_label = model(x, label_intent, lengths)\n",
    "\n",
    "            all_pred_intent_label += list(pred_intent_label.cpu())\n",
    "            all_true_intent_label += list(label_intent.cpu())\n",
    "            all_lengths += list(lengths.cpu())\n",
    "\n",
    "    acc_intent = eval_acc(\n",
    "        sent_pred=all_pred_intent_label, sent_true=all_true_intent_label)\n",
    "\n",
    "    model.train()\n",
    "    return acc_intent\n",
    "\n",
    "def train(data, model, optimizer):\n",
    "    all_pred_intent_label = []\n",
    "    all_true_intent_label = []\n",
    "    all_lengths = []\n",
    "    \n",
    "    for batch in data:\n",
    "        \n",
    "        optimizer.zero_grad()\n",
    "\n",
    "        x = batch['x'].long() # B x L, token index\n",
    "        label_intent = batch['in'].long() # B, label (intent) index\n",
    "        lengths = batch['l'].long() # B, lengths\n",
    "\n",
    "        loss_intent, pred_intent_label = model(x, label_intent, lengths)\n",
    "        loss_intent.backward()\n",
    "        optimizer.step()\n",
    "\n",
    "        all_pred_intent_label += list(pred_intent_label.cpu())\n",
    "        all_true_intent_label += list(label_intent.cpu())\n",
    "        all_lengths += list(lengths.cpu())\n",
    "\n",
    "    acc_intent = eval_acc(\n",
    "        sent_pred=all_pred_intent_label, sent_true=all_true_intent_label)\n",
    "\n",
    "    return acc_intent"
   ]
  },
  {
   "cell_type": "markdown",
   "metadata": {},
   "source": [
    "# init model and optimizer"
   ]
  },
  {
   "cell_type": "code",
   "execution_count": 91,
   "metadata": {},
   "outputs": [
    {
     "name": "stdout",
     "output_type": "stream",
     "text": [
      "ALL TRAINABLE PARAMETERS: 65226\n",
      "IntentNeuralSoftmax(\n",
      "  (loss): CrossEntropyLoss()\n",
      "  (rnn): RNN(100, 200, bias=False, batch_first=True)\n",
      "  (embedding): Embedding(944, 100)\n",
      "  (linear_intent): Linear(in_features=200, out_features=26, bias=True)\n",
      ")\n"
     ]
    }
   ],
   "source": [
    "# for padding\n",
    "model = IntentNeuralSoftmax(pretrained_embed=emb_padded,\n",
    "                           intent_size=len(in2i),\n",
    "                           config=config)\n",
    "\n",
    "pytorch_total_params = sum(p.numel() for p in model.parameters() if p.requires_grad)\n",
    "print('ALL TRAINABLE PARAMETERS: {}'.format(pytorch_total_params))\n",
    "\n",
    "optimizer = torch.optim.Adam(model.parameters(), lr=0.001, weight_decay=0)\n",
    "print(model)"
   ]
  },
  {
   "cell_type": "markdown",
   "metadata": {},
   "source": [
    "# train and evaluation, do not use test for hyper-params tuning"
   ]
  },
  {
   "cell_type": "code",
   "execution_count": 92,
   "metadata": {},
   "outputs": [
    {
     "name": "stdout",
     "output_type": "stream",
     "text": [
      "epoch: 1, train_acc: 0.7790055248618785, dev_acc: 0.8263052208835341: test_acc: 0.7782754759238522\n",
      "epoch: 2, train_acc: 0.8317428427925665, dev_acc: 0.8413654618473896: test_acc: 0.8040313549832027\n",
      "epoch: 3, train_acc: 0.8239578101456555, dev_acc: 0.8634538152610441: test_acc: 0.8409854423292273\n",
      "epoch: 4, train_acc: 0.8669010547463586, dev_acc: 0.8825301204819277: test_acc: 0.858902575587906\n",
      "epoch: 5, train_acc: 0.8857358111501757, dev_acc: 0.892570281124498: test_acc: 0.864501679731243\n",
      "epoch: 6, train_acc: 0.8982923154193873, dev_acc: 0.9006024096385542: test_acc: 0.8701007838745801\n",
      "epoch: 7, train_acc: 0.9095931692616775, dev_acc: 0.9146586345381527: test_acc: 0.8678611422172452\n",
      "epoch: 8, train_acc: 0.9121044701155199, dev_acc: 0.929718875502008: test_acc: 0.8745800671892497\n",
      "epoch: 9, train_acc: 0.9178804620793571, dev_acc: 0.892570281124498: test_acc: 0.8633818589025756\n",
      "epoch: 10, train_acc: 0.9261677548970366, dev_acc: 0.9206827309236948: test_acc: 0.8891377379619261\n",
      "epoch: 11, train_acc: 0.9211451531893521, dev_acc: 0.929718875502008: test_acc: 0.883538633818589\n",
      "epoch: 12, train_acc: 0.9495228528377699, dev_acc: 0.9236947791164659: test_acc: 0.8891377379619261\n",
      "epoch: 13, train_acc: 0.9590657960823706, dev_acc: 0.9257028112449799: test_acc: 0.8812989921612542\n",
      "epoch: 14, train_acc: 0.9477649422400803, dev_acc: 0.9317269076305221: test_acc: 0.8947368421052632\n",
      "epoch: 15, train_acc: 0.9439979909593169, dev_acc: 0.9367469879518072: test_acc: 0.8891377379619261\n",
      "epoch: 16, train_acc: 0.9434957307885484, dev_acc: 0.9267068273092369: test_acc: 0.8936170212765957\n",
      "epoch: 17, train_acc: 0.9623304871923657, dev_acc: 0.9397590361445783: test_acc: 0.9070548712206047\n",
      "epoch: 18, train_acc: 0.9653440482169764, dev_acc: 0.927710843373494: test_acc: 0.8924972004479284\n",
      "epoch: 19, train_acc: 0.972626820693119, dev_acc: 0.9407630522088354: test_acc: 0.9092945128779395\n",
      "epoch: 20, train_acc: 0.9691109994977398, dev_acc: 0.9377510040160643: test_acc: 0.9014557670772676\n",
      "final test acc: 0.9092945128779395\n"
     ]
    }
   ],
   "source": [
    "from copy import deepcopy\n",
    "train_acc_list = []\n",
    "dev_acc_list = []\n",
    "test_acc_list = [] # just for visualization\n",
    "\n",
    "best_dev_acc = -1\n",
    "best_model = model\n",
    "\n",
    "for i in range(config['epoch']):\n",
    "    \n",
    "    train_acc = train(data=intent_dataloader_train, model=model, optimizer=optimizer)\n",
    "    dev_acc = val(data=intent_dataloader_dev, model=model)\n",
    "    test_acc = val(data=intent_dataloader_test, model=model)\n",
    "    \n",
    "    if dev_acc > best_dev_acc:\n",
    "        best_dev_acc = dev_acc\n",
    "        best_model = deepcopy(model)\n",
    "    \n",
    "    print('epoch: {}, train_acc: {}, dev_acc: {}: test_acc: {}'.\n",
    "          format(i+1, train_acc, dev_acc, test_acc))\n",
    "    train_acc_list.append(train_acc)\n",
    "    dev_acc_list.append(dev_acc)\n",
    "    test_acc_list.append(test_acc)\n",
    "    \n",
    "    \n",
    "print('final test acc: {}'.format(val(data=intent_dataloader_test, model=best_model)))"
   ]
  },
  {
   "cell_type": "code",
   "execution_count": 93,
   "metadata": {},
   "outputs": [],
   "source": [
    "import seaborn as sns\n",
    "import matplotlib.pyplot as plt"
   ]
  },
  {
   "cell_type": "code",
   "execution_count": 94,
   "metadata": {},
   "outputs": [
    {
     "data": {
      "text/plain": [
       "Text(0.5, 1.0, 'accuracy curves')"
      ]
     },
     "execution_count": 94,
     "metadata": {},
     "output_type": "execute_result"
    },
    {
     "data": {
      "image/png": "[encoded data removed]",
      "text/plain": [
       "<Figure size 432x288 with 1 Axes>"
      ]
     },
     "metadata": {
      "needs_background": "light"
     },
     "output_type": "display_data"
    }
   ],
   "source": [
    "plt.plot(train_acc_list, label='train')\n",
    "plt.plot(dev_acc_list, label='dev')\n",
    "plt.plot(test_acc_list, label='test')\n",
    "plt.legend()\n",
    "plt.xlabel('epoch')\n",
    "plt.ylabel('acc')\n",
    "plt.title('accuracy curves')"
   ]
  },
  {
   "cell_type": "code",
   "execution_count": 132,
   "metadata": {},
   "outputs": [],
   "source": [
    "config = {\n",
    "    'bz': 100, # batch size\n",
    "    'rnn': 'LSTM',\n",
    "    'bidirection': True,\n",
    "    'rnn_hidden_dim': 100,\n",
    "    'epoch': 20,\n",
    "    'attention': 'mul', # ['dot', 'mul', 'add']\n",
    "}"
   ]
  },
  {
   "cell_type": "code",
   "execution_count": 133,
   "metadata": {},
   "outputs": [],
   "source": [
    "import torch\n",
    "from torch import nn\n",
    "from utils import get_length_mask\n",
    "from torch.nn.utils.rnn import pad_packed_sequence, pack_padded_sequence\n",
    "\n",
    "\n",
    "class DotAttention(nn.Module):\n",
    "    def __init__(self, hidden_size):\n",
    "        super(DotAttention, self).__init__()\n",
    "        \n",
    "        self.context_vector_s = \\\n",
    "            nn.Parameter(torch.randn((hidden_size)), requires_grad=True) # H\n",
    "    \n",
    "    def forward(self, hidden_states, lengths):\n",
    "        # hidden states: B x L x H\n",
    "        # lengths: B\n",
    "        mask = get_length_mask(lengths) # B x L\n",
    "        scores = torch.einsum('h,blh->bl', self.context_vector_s, hidden_states) # B x L\n",
    "        exp_scores = torch.exp(scores)  \n",
    "        exp_scores = exp_scores * mask # B x L\n",
    "        exp_scores = exp_scores / exp_scores.sum(1).view(-1, 1) # B x L\n",
    "        attended_hidden_state = torch.einsum('blh,bl->bh', hidden_states, exp_scores)\n",
    "    \n",
    "        return attended_hidden_state\n",
    "    \n",
    "class MulAttention(nn.Module):\n",
    "    def __init__(self, hidden_size):\n",
    "        super(MulAttention, self).__init__()\n",
    "        \n",
    "        self.context_vector_s = \\\n",
    "            nn.Parameter(torch.randn((hidden_size)), requires_grad=True) # H\n",
    "        self.attend_matrix = \\\n",
    "            nn.Parameter(torch.randn((hidden_size, hidden_size)), requires_grad=True) # H x H\n",
    "        nn.init.xavier_normal_(self.attend_matrix)\n",
    "    \n",
    "    def forward(self, hidden_states, lengths):\n",
    "        # hidden states: B x L x H\n",
    "        # lengths: B\n",
    "        mask = get_length_mask(lengths) # B x L\n",
    "        context_vec = torch.matmul(self.context_vector_s, self.attend_matrix)\n",
    "        scores = torch.einsum('h,blh->bl', context_vec, hidden_states) # B x L\n",
    "        exp_scores = torch.exp(scores)  \n",
    "        exp_scores = exp_scores * mask # B x L\n",
    "        exp_scores = exp_scores / exp_scores.sum(1).view(-1, 1) # B x L\n",
    "        attended_hidden_state = torch.einsum('blh,bl->bh', hidden_states, exp_scores)\n",
    "    \n",
    "        return attended_hidden_state\n",
    "        \n",
    "    \n",
    "class AddAttention(nn.Module):\n",
    "    def __init__(self, hidden_size):\n",
    "        super(MulAttention, self).__init__()\n",
    "        self.v = nn.Parameter(torch.randn((hidden_size)), requires_grad=True) # H\n",
    "        self.s = \\\n",
    "            nn.Parameter(torch.randn((hidden_size)), requires_grad=True) # H\n",
    "        self.attend_matrix_h = \\\n",
    "            nn.Parameter(torch.randn((hidden_size, hidden_size)), requires_grad=True) # H x H\n",
    "        self.attend_matrix_s = \\\n",
    "            nn.Parameter(torch.randn((hidden_size, hidden_size)), requires_grad=True) # H x H\n",
    "        nn.init.xavier_normal_(self.attend_matrix_h)\n",
    "        nn.init.xavier_normal_(self.attend_matrix_s)\n",
    "        \n",
    "        self.tanh = nn.Tanh()\n",
    "        \n",
    "    \n",
    "    def forward(self, hidden_states, lengths):\n",
    "        # hidden states: B x L x H\n",
    "        # lengths: B\n",
    "        mask = get_length_mask(lengths) # B x L\n",
    "        context_vec = torch.matmul(self.s, self.attend_matrix_s)\n",
    "        scores = torch.einsum('kh,blh->blh', self.attend_matrix_h, hidden_states) # B x L\n",
    "        scores = scores + context_vec\n",
    "        scores = self.tanh(scores) # blh\n",
    "        scores = torch.einsum('h,blh->bl', self.v, scores)\n",
    "\n",
    "        exp_scores = torch.exp(scores)  \n",
    "        exp_scores = exp_scores * mask # B x L\n",
    "        exp_scores = exp_scores / exp_scores.sum(1).view(-1, 1) # B x L\n",
    "        attended_hidden_state = torch.einsum('blh,bl->bh', hidden_states, exp_scores)\n",
    "    \n",
    "        return attended_hidden_state    \n",
    "\n",
    "class IntentNeuralSoftmaxWithAttention(nn.Module):\n",
    "    def __init__(self, pretrained_embed, intent_size, config):\n",
    "        super(IntentNeuralSoftmaxWithAttention, self).__init__()\n",
    "\n",
    "        self.bidirection = config['bidirection']\n",
    "        self.directions = 2 if self.bidirection else 1\n",
    "        self.is_cuda = torch.cuda.is_available()\n",
    "        self.V, self.D = pretrained_embed.shape\n",
    "        self.rnn_type = config['rnn']\n",
    "        self.rnn_hidden_dim = config['rnn_hidden_dim'] // 2 if \\\n",
    "            self.bidirection else config['rnn_hidden_dim'] \n",
    "\n",
    "        self.intent_size = intent_size\n",
    "\n",
    "        self.loss = nn.CrossEntropyLoss()\n",
    "        \n",
    "        if config['attention'] == 'dot':\n",
    "            self.attention_layer = DotAttention(config['rnn_hidden_dim'])\n",
    "        elif config['attention'] == 'mul':\n",
    "            self.attention_layer = MulAttention(config['rnn_hidden_dim'])\n",
    "        elif config['attention'] == 'add':\n",
    "            self.attention_layer = MulAttention(config['rnn_hidden_dim'])\n",
    "            \n",
    "            \n",
    "        if self.rnn_type == 'RNN':\n",
    "            self.rnn = nn.RNN(input_size=self.D,\n",
    "                              hidden_size=self.rnn_hidden_dim,\n",
    "                              num_layers=1,\n",
    "                              batch_first=True,\n",
    "                              bidirectional=self.bidirection,\n",
    "                              bias=False)\n",
    "\n",
    "        elif self.rnn_type == 'LSTM':\n",
    "            self.rnn = nn.LSTM(input_size=self.D,\n",
    "                               hidden_size=self.rnn_hidden_dim,\n",
    "                               num_layers=1,\n",
    "                               batch_first=True,\n",
    "                               bidirectional=self.bidirection,\n",
    "                               bias=False)\n",
    "\n",
    "        self.embedding = nn.Embedding.from_pretrained(torch.from_numpy(pretrained_embed).float(),\n",
    "                                                      freeze=True)  # V x D\n",
    "\n",
    "        self.linear_intent = nn.Linear(self.rnn_hidden_dim*self.directions, self.intent_size)\n",
    "\n",
    "    def forward(self, input, label_intent, lengths):\n",
    "        input = self.embedding(input)  # B x L x D\n",
    "        pack_padded_seq_input = pack_padded_sequence(input, lengths.cpu(), batch_first=True, enforce_sorted=False)\n",
    "\n",
    "        B, L, D = input.size()\n",
    "\n",
    "        if self.rnn_type in ['RNN']:\n",
    "            output_packed, hn = self.rnn(pack_padded_seq_input)  # B x L x H\n",
    "        elif self.rnn_type == 'LSTM':\n",
    "            output_packed, (hn, cn) = self.rnn(pack_padded_seq_input)  # B x L x H\n",
    "\n",
    "        output_padded, output_lengths = pad_packed_sequence(output_packed, batch_first=True)\n",
    "        # B x L x H\n",
    "        \n",
    "        # intent classification\n",
    "        final_hidden = self.attention_layer(output_padded, lengths)\n",
    "        score_intent = self.linear_intent(final_hidden)\n",
    "\n",
    "        loss_intent, pred_labels_intent = \\\n",
    "            self.calculate_intent_loss(score_intent, label_intent)\n",
    "\n",
    "        return loss_intent, pred_labels_intent\n",
    "\n",
    "    def calculate_intent_loss(self, scores_intent, label_intent):\n",
    "        loss = self.loss(scores_intent, label_intent.squeeze())\n",
    "        max_score_intent, pred_labels_intent = scores_intent.max(dim=1)\n",
    "        return loss, pred_labels_intent\n"
   ]
  },
  {
   "cell_type": "code",
   "execution_count": 134,
   "metadata": {},
   "outputs": [],
   "source": [
    "model = IntentNeuralSoftmaxWithAttention(\n",
    "                           pretrained_embed=emb_padded,\n",
    "                           intent_size=len(in2i),\n",
    "                           config=config)\n",
    "optimizer = torch.optim.Adam(model.parameters(), lr=0.001, weight_decay=0)"
   ]
  },
  {
   "cell_type": "code",
   "execution_count": 135,
   "metadata": {},
   "outputs": [
    {
     "name": "stdout",
     "output_type": "stream",
     "text": [
      "epoch: 1, train_acc: 0.7041687594173782, dev_acc: 0.7439759036144579: test_acc: 0.7077267637178052\n",
      "epoch: 2, train_acc: 0.7345554997488699, dev_acc: 0.7439759036144579: test_acc: 0.7077267637178052\n",
      "epoch: 3, train_acc: 0.735811150175791, dev_acc: 0.7670682730923695: test_acc: 0.7458006718924972\n",
      "epoch: 4, train_acc: 0.82245102963335, dev_acc: 0.8755020080321285: test_acc: 0.8107502799552072\n",
      "epoch: 5, train_acc: 0.8751883475640382, dev_acc: 0.8855421686746988: test_acc: 0.8275475923852184\n",
      "epoch: 6, train_acc: 0.8900050226017077, dev_acc: 0.9056224899598394: test_acc: 0.845464725643897\n",
      "epoch: 7, train_acc: 0.9065796082370668, dev_acc: 0.9206827309236948: test_acc: 0.8622620380739082\n",
      "epoch: 8, train_acc: 0.9236564540431944, dev_acc: 0.9327309236947792: test_acc: 0.8779395296752519\n",
      "epoch: 9, train_acc: 0.9306880964339528, dev_acc: 0.9347389558232931: test_acc: 0.8801791713325868\n",
      "epoch: 10, train_acc: 0.9414866901054746, dev_acc: 0.9337349397590361: test_acc: 0.8846584546472565\n",
      "epoch: 11, train_acc: 0.9467604218985435, dev_acc: 0.9397590361445783: test_acc: 0.8958566629339306\n",
      "epoch: 12, train_acc: 0.9510296333500753, dev_acc: 0.9447791164658634: test_acc: 0.896976483762598\n",
      "epoch: 13, train_acc: 0.9552988448016072, dev_acc: 0.9477911646586346: test_acc: 0.9003359462486002\n",
      "epoch: 14, train_acc: 0.9593169261677549, dev_acc: 0.9538152610441767: test_acc: 0.9115341545352743\n",
      "epoch: 15, train_acc: 0.9645906579608237, dev_acc: 0.9528112449799196: test_acc: 0.9294512877939529\n",
      "epoch: 16, train_acc: 0.9686087393269713, dev_acc: 0.9558232931726908: test_acc: 0.9328107502799552\n",
      "epoch: 17, train_acc: 0.9761426418884982, dev_acc: 0.9568273092369478: test_acc: 0.9316909294512878\n",
      "epoch: 18, train_acc: 0.9784028126569563, dev_acc: 0.9598393574297188: test_acc: 0.9384098544232923\n",
      "epoch: 19, train_acc: 0.9816675037669513, dev_acc: 0.9628514056224899: test_acc: 0.9440089585666294\n",
      "epoch: 20, train_acc: 0.9839276745354093, dev_acc: 0.963855421686747: test_acc: 0.9462486002239642\n",
      "final test acc: 0.9462486002239642\n"
     ]
    }
   ],
   "source": [
    "from copy import deepcopy\n",
    "train_acc_list = []\n",
    "dev_acc_list = []\n",
    "test_acc_list = [] # just for visualization\n",
    "\n",
    "best_dev_acc = -1\n",
    "best_model = model\n",
    "\n",
    "for i in range(config['epoch']):\n",
    "    \n",
    "    train_acc = train(data=intent_dataloader_train, model=model, optimizer=optimizer)\n",
    "    dev_acc = val(data=intent_dataloader_dev, model=model)\n",
    "    test_acc = val(data=intent_dataloader_test, model=model)\n",
    "    \n",
    "    if dev_acc > best_dev_acc:\n",
    "        best_dev_acc = dev_acc\n",
    "        best_model = deepcopy(model)\n",
    "    \n",
    "    print('epoch: {}, train_acc: {}, dev_acc: {}: test_acc: {}'.\n",
    "          format(i+1, train_acc, dev_acc, test_acc))\n",
    "    train_acc_list.append(train_acc)\n",
    "    dev_acc_list.append(dev_acc)\n",
    "    test_acc_list.append(test_acc)\n",
    "    \n",
    "    \n",
    "print('final test acc: {}'.format(val(data=intent_dataloader_test, model=best_model)))"
   ]
  },
  {
   "cell_type": "code",
   "execution_count": 136,
   "metadata": {},
   "outputs": [
    {
     "data": {
      "text/plain": [
       "Text(0.5, 1.0, 'accuracy curves')"
      ]
     },
     "execution_count": 136,
     "metadata": {},
     "output_type": "execute_result"
    },
    {
     "data": {
      "image/png": "[encoded data removed]",
      "text/plain": [
       "<Figure size 432x288 with 1 Axes>"
      ]
     },
     "metadata": {
      "needs_background": "light"
     },
     "output_type": "display_data"
    }
   ],
   "source": [
    "plt.plot(train_acc_list, label='train')\n",
    "plt.plot(dev_acc_list, label='dev')\n",
    "plt.plot(test_acc_list, label='test')\n",
    "plt.legend()\n",
    "plt.xlabel('epoch')\n",
    "plt.ylabel('acc')\n",
    "plt.title('accuracy curves')"
   ]
  },
  {
   "cell_type": "code",
   "execution_count": 9,
   "metadata": {},
   "outputs": [],
   "source": [
    "import torch\n",
    "a = torch.randn((3,5,8))"
   ]
  },
  {
   "cell_type": "code",
   "execution_count": 10,
   "metadata": {},
   "outputs": [],
   "source": [
    "b = torch.randn((5,2))"
   ]
  },
  {
   "cell_type": "code",
   "execution_count": 13,
   "metadata": {},
   "outputs": [
    {
     "data": {
      "text/plain": [
       "torch.Size([8, 3, 2])"
      ]
     },
     "execution_count": 13,
     "metadata": {},
     "output_type": "execute_result"
    }
   ],
   "source": [
    "torch.einsum('qwr,we->rqe', a, b).size()"
   ]
  },
  {
   "cell_type": "code",
   "execution_count": 14,
   "metadata": {},
   "outputs": [],
   "source": [
    "a = torch.randn((2,3))\n",
    "b = torch.randn((2,3))"
   ]
  },
  {
   "cell_type": "code",
   "execution_count": 15,
   "metadata": {},
   "outputs": [
    {
     "data": {
      "text/plain": [
       "tensor([[ 0.0551, -0.0229,  0.0178],\n",
       "        [ 1.0396,  0.2477, -0.1978]])"
      ]
     },
     "execution_count": 15,
     "metadata": {},
     "output_type": "execute_result"
    }
   ],
   "source": [
    "a * b"
   ]
  },
  {
   "cell_type": "code",
   "execution_count": 16,
   "metadata": {},
   "outputs": [
    {
     "data": {
      "text/plain": [
       "tensor([[ 0.0551, -0.0229,  0.0178],\n",
       "        [ 1.0396,  0.2477, -0.1978]])"
      ]
     },
     "execution_count": 16,
     "metadata": {},
     "output_type": "execute_result"
    }
   ],
   "source": [
    "torch.einsum('qw,qw->qw', a, b)"
   ]
  },
  {
   "cell_type": "code",
   "execution_count": null,
   "metadata": {},
   "outputs": [],
   "source": []
  }
 ],
 "metadata": {
  "kernelspec": {
   "display_name": "Python 3",
   "language": "python",
   "name": "python3"
  },
  "language_info": {
   "codemirror_mode": {
    "name": "ipython",
    "version": 3
   },
   "file_extension": ".py",
   "mimetype": "text/x-python",
   "name": "python",
   "nbconvert_exporter": "python",
   "pygments_lexer": "ipython3",
   "version": "3.8.8"
  }
 },
 "nbformat": 4,
 "nbformat_minor": 2
}
