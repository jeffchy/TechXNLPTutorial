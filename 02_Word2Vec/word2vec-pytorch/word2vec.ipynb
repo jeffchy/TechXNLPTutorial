{
 "cells": [
  {
   "cell_type": "code",
   "execution_count": 2,
   "metadata": {},
   "outputs": [
    {
     "data": {
      "text/plain": [
       "<torch._C.Generator at 0x7fa830893f50>"
      ]
     },
     "execution_count": 2,
     "metadata": {},
     "output_type": "execute_result"
    }
   ],
   "source": [
    "# see http://pytorch.org/tutorials/beginner/nlp/word_embeddings_tutorial.html\n",
    "import torch\n",
    "import torch.nn as nn\n",
    "import torch.optim as optim\n",
    "\n",
    "torch.manual_seed(1)"
   ]
  },
  {
   "cell_type": "code",
   "execution_count": 109,
   "metadata": {},
   "outputs": [
    {
     "name": "stdout",
     "output_type": "stream",
     "text": [
      "vocab_size: 49\n",
      "{0: 'a', 1: 'inhabit', 2: 'spells.', 3: 'direct', 4: 'evolve,', 5: 'evolution', 6: 'program.', 7: 'is', 8: 'Computational', 9: 'data.', 10: 'with', 11: 'are', 12: 'other', 13: 'People', 14: 'computer', 15: 'programs', 16: 'In', 17: 'We', 18: 'they', 19: 'by', 20: 'process', 21: 'the', 22: 'spirits', 23: 'abstract', 24: 'study', 25: 'effect,', 26: 'we', 27: 'manipulate', 28: 'process.', 29: 'that', 30: 'create', 31: 'rules', 32: 'idea', 33: 'As', 34: 'beings', 35: 'computers.', 36: 'processes.', 37: 'processes', 38: 'about', 39: 'to', 40: 'pattern', 41: 'computational', 42: 'conjure', 43: 'The', 44: 'things', 45: 'directed', 46: 'of', 47: 'our', 48: 'called'}\n"
     ]
    }
   ],
   "source": [
    "CONTEXT_SIZE = 2  # 2 words to the left, 2 to the right\n",
    "text = \"\"\"We are about to study the idea of a computational process.\n",
    "Computational processes are abstract beings that inhabit computers.\n",
    "As they evolve, processes manipulate other abstract things called data.\n",
    "The evolution of a process is directed by a pattern of rules\n",
    "called a program. People create programs to direct processes. In effect,\n",
    "we conjure the spirits of the computer with our spells.\"\"\".split()\n",
    "\n",
    "split_ind = (int)(len(text) * 0.8)\n",
    "\n",
    "# By deriving a set from `raw_text`, we deduplicate the array\n",
    "vocab = set(text)\n",
    "vocab_size = len(vocab)\n",
    "print('vocab_size:', vocab_size)\n",
    "\n",
    "w2i = {w: i for i, w in enumerate(vocab)} # word2idx\n",
    "i2w = {i: w for i, w in enumerate(vocab)} # idx2word\n",
    "print(i2w)"
   ]
  },
  {
   "cell_type": "code",
   "execution_count": 110,
   "metadata": {},
   "outputs": [
    {
     "data": {
      "text/plain": [
       "tensor([[ 1.7473,  0.5044, -1.0165, -0.5111,  1.6275,  1.4331,  1.0416,  1.0159,\n",
       "         -0.8214,  1.2212,  0.3340, -1.9954, -0.4929, -0.4708, -1.4784, -0.1345,\n",
       "         -0.2731,  2.3206,  0.6580, -2.6590, -2.1634,  0.4816,  0.6104, -0.2761,\n",
       "          0.2060, -0.5208,  0.1379, -0.6682,  1.9171,  0.8743, -0.7782,  0.1742,\n",
       "         -0.0189, -1.0932,  0.1201,  0.6028, -1.3333,  0.1071, -0.2242,  0.1889,\n",
       "          0.0664, -0.9989, -1.4189,  0.0945, -0.7090,  0.4575,  0.9523, -0.2229,\n",
       "         -0.5077, -0.0085,  0.6131,  0.0394, -0.0643,  0.0436,  0.3214, -0.7565,\n",
       "          0.0581,  0.5807,  0.2002, -1.0811, -1.7628, -0.9381, -0.5668, -0.5603,\n",
       "          0.0441,  1.0702, -1.3769, -0.3156,  0.7108,  0.3345,  1.8552, -0.4162,\n",
       "         -0.1658,  0.3846, -0.4926, -0.4088, -0.6167, -0.1386, -0.1153, -1.2247,\n",
       "         -1.1104, -1.0189, -0.6564,  0.4586, -1.1321, -1.2202, -0.3290,  1.9865,\n",
       "         -0.6641, -1.0908,  2.1169, -0.6305,  0.6482, -0.6672, -0.3907,  0.5173,\n",
       "          0.3222, -0.3536, -0.1645, -0.3432]], grad_fn=<EmbeddingBackward>)"
      ]
     },
     "execution_count": 110,
     "metadata": {},
     "output_type": "execute_result"
    }
   ],
   "source": [
    "embed_layer = nn.Embedding(49, 100)\n",
    "idx = torch.LongTensor([w2i['about']])\n",
    "embed_layer(idx)"
   ]
  },
  {
   "cell_type": "code",
   "execution_count": 111,
   "metadata": {},
   "outputs": [
    {
     "name": "stdout",
     "output_type": "stream",
     "text": [
      "cbow sample (['We', 'are', 'to', 'study'], 'about')\n",
      "skipgram sample ('about', 'We')\n"
     ]
    }
   ],
   "source": [
    "# context window size is two\n",
    "def create_cbow_dataset(text):\n",
    "    data = []\n",
    "    for i in range(2, len(text) - 2):\n",
    "        context = [text[i - 2], text[i - 1],\n",
    "                   text[i + 1], text[i + 2]]\n",
    "        target = text[i]\n",
    "        data.append((context, target))\n",
    "    return data\n",
    "\n",
    "def create_skipgram_dataset_neg_sample(text):\n",
    "    import random\n",
    "    data = []\n",
    "    for i in range(2, len(text) - 2):\n",
    "        data.append((text[i], text[i-2], 1))\n",
    "        data.append((text[i], text[i-1], 1))\n",
    "        data.append((text[i], text[i+1], 1))\n",
    "        data.append((text[i], text[i+2], 1))\n",
    "        # negative sampling\n",
    "        for _ in range(4):\n",
    "            if random.random() < 0.5 or i >= len(text) - 3:\n",
    "                rand_id = random.randint(0, i-1)\n",
    "            else:\n",
    "                rand_id = random.randint(i+3, len(text)-1)\n",
    "            data.append((text[i], text[rand_id], 0))\n",
    "    return data\n",
    "\n",
    "def create_skipgram_dataset(text):\n",
    "    data = []\n",
    "    for i in range(2, len(text) - 2):\n",
    "        data.append((text[i], text[i-2]))\n",
    "        data.append((text[i], text[i-1]))\n",
    "        data.append((text[i], text[i+1]))\n",
    "        data.append((text[i], text[i+2]))\n",
    "    return data\n",
    "\n",
    "cbow_train = create_cbow_dataset(text)\n",
    "skipgram_train = create_skipgram_dataset(text)\n",
    "print('cbow sample', cbow_train[0])\n",
    "print('skipgram sample', skipgram_train[0])"
   ]
  },
  {
   "cell_type": "code",
   "execution_count": 112,
   "metadata": {},
   "outputs": [],
   "source": [
    "class CBOW(nn.Module):\n",
    "    def __init__(self, vocab_size, embd_size, context_size, hidden_size):\n",
    "        super(CBOW, self).__init__()\n",
    "        self.embeddings = nn.Embedding(vocab_size, embd_size)        \n",
    "        self.linear1 = nn.Linear(2*context_size*embd_size, hidden_size)\n",
    "        self.linear2 = nn.Linear(hidden_size, vocab_size) \n",
    "        self.relu = nn.ReLU()\n",
    "        \n",
    "    def forward(self, inputs):\n",
    "        embedded = self.embeddings(inputs).view((1, -1)) # embed_size x context_size x 2\n",
    "        hidden = self.relu(self.linear1(embedded)) # embed_size x context_size x 2 -> hidden_size\n",
    "        out = self.linear2(hidden) # hidden_size -> vocab_size\n",
    "        return out\n",
    "\n",
    "class SkipGram(nn.Module):\n",
    "    def __init__(self, vocab_size, embd_size):\n",
    "        super(SkipGram, self).__init__()\n",
    "        self.center_embeddings = nn.Embedding(vocab_size, embd_size)\n",
    "        self.context_embeddings = nn.Embedding(vocab_size, embd_size)\n",
    "    \n",
    "    def forward(self, center_word):\n",
    "        embed_centers = self.center_embeddings(center_word)\n",
    "        scores = torch.matmul(embed_centers, self.context_embeddings.weight.T) # vocab_size\n",
    "        return scores"
   ]
  },
  {
   "cell_type": "code",
   "execution_count": 113,
   "metadata": {},
   "outputs": [
    {
     "name": "stdout",
     "output_type": "stream",
     "text": [
      "CBOW(\n",
      "  (embeddings): Embedding(49, 100)\n",
      "  (linear1): Linear(in_features=400, out_features=64, bias=True)\n",
      "  (linear2): Linear(in_features=64, out_features=49, bias=True)\n",
      "  (relu): ReLU()\n",
      ")\n",
      "SkipGram(\n",
      "  (center_embeddings): Embedding(49, 100)\n",
      "  (context_embeddings): Embedding(49, 100)\n",
      ")\n"
     ]
    }
   ],
   "source": [
    "embd_size = 100\n",
    "learning_rate = 0.001\n",
    "n_epoch = 50\n",
    "\n",
    "def train_cbow():\n",
    "    hidden_size = 64\n",
    "    losses = []\n",
    "    loss_fn = nn.CrossEntropyLoss()\n",
    "    model = CBOW(vocab_size, embd_size, CONTEXT_SIZE, hidden_size)\n",
    "    print(model)\n",
    "    optimizer = optim.SGD(model.parameters(), lr=learning_rate)\n",
    "\n",
    "    for epoch in range(n_epoch):\n",
    "        total_loss = .0\n",
    "        for context, target in cbow_train:\n",
    "            ctx_idxs = [w2i[w] for w in context]\n",
    "            ctx_var = torch.LongTensor(ctx_idxs)\n",
    "\n",
    "            optimizer.zero_grad()\n",
    "            logtis = model(ctx_var)\n",
    "\n",
    "            loss = loss_fn(logtis, torch.LongTensor([w2i[target]]))\n",
    "\n",
    "            loss.backward()\n",
    "            optimizer.step()\n",
    "\n",
    "            total_loss += loss.item()\n",
    "        losses.append(total_loss)\n",
    "    return model, losses\n",
    "\n",
    "def train_skipgram():\n",
    "    losses = []\n",
    "    loss_fn = nn.CrossEntropyLoss()\n",
    "    model = SkipGram(vocab_size, embd_size)\n",
    "    print(model)\n",
    "    optimizer = optim.SGD(model.parameters(), lr=learning_rate)\n",
    "    \n",
    "    for epoch in range(n_epoch):\n",
    "        total_loss = .0\n",
    "        for in_w, out_w in skipgram_train:\n",
    "            in_w_var = torch.LongTensor([w2i[in_w]])\n",
    "            out_w_var = torch.LongTensor([w2i[out_w]])\n",
    "            \n",
    "            optimizer.zero_grad()\n",
    "            logits = model(in_w_var)\n",
    "            loss = loss_fn(logits, out_w_var)\n",
    "            \n",
    "            loss.backward()\n",
    "            optimizer.step()\n",
    "\n",
    "            total_loss += loss.item()\n",
    "        losses.append(total_loss)\n",
    "    return model, losses\n",
    "    \n",
    "cbow_model, cbow_losses = train_cbow()\n",
    "sg_model, sg_losses = train_skipgram()"
   ]
  },
  {
   "cell_type": "code",
   "execution_count": 3,
   "metadata": {},
   "outputs": [
    {
     "data": {
      "text/plain": [
       "tensor(4.4677)"
      ]
     },
     "execution_count": 3,
     "metadata": {},
     "output_type": "execute_result"
    }
   ],
   "source": [
    "# 3-way classification, (x, y)\n",
    "output_logits = torch.FloatTensor([[-1.3, 3.0, 1.222]])\n",
    "target = torch.LongTensor([0])\n",
    "loss_fn = nn.CrossEntropyLoss()\n",
    "\n",
    "loss_fn(output_logits, target)"
   ]
  },
  {
   "cell_type": "code",
   "execution_count": 7,
   "metadata": {},
   "outputs": [
    {
     "name": "stderr",
     "output_type": "stream",
     "text": [
      "<ipython-input-7-181a47fd1077>:1: UserWarning: Implicit dimension choice for softmax has been deprecated. Change the call to include dim=X as an argument.\n",
      "  -torch.log(nn.Softmax()(output_logits)[0][0])\n"
     ]
    },
    {
     "data": {
      "text/plain": [
       "tensor(4.4677)"
      ]
     },
     "execution_count": 7,
     "metadata": {},
     "output_type": "execute_result"
    }
   ],
   "source": [
    "-torch.log(nn.Softmax()(output_logits)[0][0])"
   ]
  },
  {
   "cell_type": "code",
   "execution_count": 115,
   "metadata": {},
   "outputs": [
    {
     "name": "stdout",
     "output_type": "stream",
     "text": [
      "====Test CBOW===\n",
      "predicted: about\n",
      "label    : about\n",
      "predicted: to\n",
      "label    : to\n",
      "predicted: study\n",
      "label    : study\n",
      "predicted: the\n",
      "label    : the\n",
      "predicted: idea\n",
      "label    : idea\n",
      "predicted: of\n",
      "label    : of\n",
      "predicted: a\n",
      "label    : a\n",
      "predicted: computational\n",
      "label    : computational\n",
      "predicted: process.\n",
      "label    : process.\n",
      "predicted: Computational\n",
      "label    : Computational\n",
      "predicted: processes\n",
      "label    : processes\n",
      "predicted: are\n",
      "label    : are\n",
      "predicted: abstract\n",
      "label    : abstract\n",
      "predicted: beings\n",
      "label    : beings\n",
      "predicted: that\n",
      "label    : that\n",
      "predicted: inhabit\n",
      "label    : inhabit\n",
      "predicted: computers.\n",
      "label    : computers.\n",
      "predicted: As\n",
      "label    : As\n",
      "predicted: they\n",
      "label    : they\n",
      "predicted: evolve,\n",
      "label    : evolve,\n",
      "predicted: processes\n",
      "label    : processes\n",
      "predicted: manipulate\n",
      "label    : manipulate\n",
      "predicted: other\n",
      "label    : other\n",
      "predicted: abstract\n",
      "label    : abstract\n",
      "predicted: things\n",
      "label    : things\n",
      "predicted: called\n",
      "label    : called\n",
      "predicted: data.\n",
      "label    : data.\n",
      "predicted: The\n",
      "label    : The\n",
      "predicted: evolution\n",
      "label    : evolution\n",
      "predicted: of\n",
      "label    : of\n",
      "predicted: a\n",
      "label    : a\n",
      "predicted: process\n",
      "label    : process\n",
      "predicted: is\n",
      "label    : is\n",
      "predicted: directed\n",
      "label    : directed\n",
      "predicted: by\n",
      "label    : by\n",
      "predicted: a\n",
      "label    : a\n",
      "predicted: pattern\n",
      "label    : pattern\n",
      "predicted: of\n",
      "label    : of\n",
      "predicted: rules\n",
      "label    : rules\n",
      "predicted: called\n",
      "label    : called\n",
      "predicted: a\n",
      "label    : a\n",
      "predicted: program.\n",
      "label    : program.\n",
      "predicted: People\n",
      "label    : People\n",
      "predicted: create\n",
      "label    : create\n",
      "predicted: programs\n",
      "label    : programs\n",
      "predicted: to\n",
      "label    : to\n",
      "predicted: direct\n",
      "label    : direct\n",
      "predicted: processes.\n",
      "label    : processes.\n",
      "predicted: In\n",
      "label    : In\n",
      "predicted: effect,\n",
      "label    : effect,\n",
      "predicted: we\n",
      "label    : we\n",
      "predicted: conjure\n",
      "label    : conjure\n",
      "predicted: the\n",
      "label    : the\n",
      "predicted: spirits\n",
      "label    : spirits\n",
      "predicted: of\n",
      "label    : of\n",
      "predicted: the\n",
      "label    : the\n",
      "predicted: computer\n",
      "label    : computer\n",
      "predicted: with\n",
      "label    : with\n",
      "Accuracy: 100.0% (58/58)\n",
      "------\n",
      "====Test SkipGram===\n"
     ]
    }
   ],
   "source": [
    "# test\n",
    "# You have to use other dataset for test, but in this case I use training data because this dataset is too small\n",
    "def test_cbow(test_data, model):\n",
    "    print('====Test CBOW===')\n",
    "    correct_ct = 0\n",
    "    for ctx, target in test_data:\n",
    "        ctx_idxs = [w2i[w] for w in ctx]\n",
    "        ctx_var = torch.LongTensor(ctx_idxs)\n",
    "\n",
    "        model.zero_grad()\n",
    "        log_probs = model(ctx_var)\n",
    "        _, predicted = torch.max(log_probs.data, 1)\n",
    "        predicted_word = i2w[predicted.item()]\n",
    "        print('predicted:', predicted_word)\n",
    "        print('label    :', target)\n",
    "        if predicted_word == target:\n",
    "            correct_ct += 1\n",
    "            \n",
    "    print('Accuracy: {:.1f}% ({:d}/{:d})'.format(correct_ct/len(test_data)*100, correct_ct, len(test_data)))\n",
    "\n",
    "def test_skipgram(test_data, model):\n",
    "    print('====Test SkipGram===')\n",
    "    correct_ct = 0\n",
    "    for in_w, out_w in test_data:\n",
    "        in_w_var = torch.LongTensor([w2i[in_w]])\n",
    "        out_w_var = torch.LongTensor([w2i[out_w]])\n",
    "\n",
    "        model.zero_grad()\n",
    "        out = model(in_w_var)        \n",
    "\n",
    "#     print('Accuracy: {:.1f}% ({:d}/{:d})'.format(correct_ct/len(test_data)*100, correct_ct, len(test_data)))\n",
    "\n",
    "test_cbow(cbow_train, cbow_model)\n",
    "print('------')\n",
    "test_skipgram(skipgram_train, sg_model)"
   ]
  },
  {
   "cell_type": "code",
   "execution_count": 72,
   "metadata": {},
   "outputs": [
    {
     "data": {
      "text/plain": [
       "<Figure size 432x288 with 0 Axes>"
      ]
     },
     "metadata": {},
     "output_type": "display_data"
    },
    {
     "data": {
      "image/png": "[encoded data removed]",
      "text/plain": [
       "<Figure size 432x288 with 1 Axes>"
      ]
     },
     "metadata": {
      "needs_background": "light"
     },
     "output_type": "display_data"
    },
    {
     "data": {
      "text/plain": [
       "<Figure size 432x288 with 0 Axes>"
      ]
     },
     "metadata": {},
     "output_type": "display_data"
    },
    {
     "data": {
      "image/png": "[encoded data removed]",
      "text/plain": [
       "<Figure size 432x288 with 1 Axes>"
      ]
     },
     "metadata": {
      "needs_background": "light"
     },
     "output_type": "display_data"
    }
   ],
   "source": [
    "%matplotlib inline\n",
    "import matplotlib.pyplot as plt\n",
    "import numpy as np\n",
    "\n",
    "def showPlot(points, title):\n",
    "    plt.figure()\n",
    "    fig, ax = plt.subplots()\n",
    "    plt.plot(points)\n",
    "    plt.title(title)\n",
    "\n",
    "showPlot(cbow_losses, 'CBOW Losses')\n",
    "showPlot(sg_losses, 'SkipGram Losses')"
   ]
  },
  {
   "cell_type": "code",
   "execution_count": 116,
   "metadata": {},
   "outputs": [],
   "source": [
    "embeddings = cbow_model.embeddings.weight"
   ]
  },
  {
   "cell_type": "code",
   "execution_count": 117,
   "metadata": {},
   "outputs": [],
   "source": [
    "heats = torch.matmul(embeddings, embeddings.T).detach().numpy()"
   ]
  },
  {
   "cell_type": "code",
   "execution_count": 118,
   "metadata": {},
   "outputs": [],
   "source": [
    "import seaborn as sns"
   ]
  },
  {
   "cell_type": "code",
   "execution_count": 119,
   "metadata": {},
   "outputs": [
    {
     "data": {
      "text/plain": [
       "array([ 98.499756 ,  16.016302 ,   0.7782915,  -5.002313 ,   2.5750422,\n",
       "        -0.486776 ,  18.161879 , -18.869623 ,  -3.0492723,   3.2679412,\n",
       "        19.365528 , -10.164405 ,  -6.904127 ,  -7.0854964, -14.283408 ,\n",
       "        22.312536 ,  -4.0826697,  -9.435358 ,  -3.5690482,  -2.5351892,\n",
       "        -6.8498573,   5.551443 ,  -7.761194 ,  14.91701  , -14.954795 ,\n",
       "        24.932882 ,   5.3876157,   7.543332 ,  -7.1132455, -13.307591 ,\n",
       "         3.2025428,   4.8387623,  -5.0294847,  10.868198 ,   3.327941 ,\n",
       "        -3.3766563,   4.8696237, -16.066751 , -15.088419 ,  -2.7514431,\n",
       "       -12.376959 ,  12.862853 ,  -2.756415 ,   5.5561576, -11.144228 ,\n",
       "        -1.1206397,   4.08586  ,   1.5265392,   7.171088 ], dtype=float32)"
      ]
     },
     "execution_count": 119,
     "metadata": {},
     "output_type": "execute_result"
    }
   ],
   "source": [
    "heats[0]"
   ]
  },
  {
   "cell_type": "code",
   "execution_count": 120,
   "metadata": {},
   "outputs": [
    {
     "data": {
      "text/plain": [
       "<AxesSubplot:>"
      ]
     },
     "execution_count": 120,
     "metadata": {},
     "output_type": "execute_result"
    },
    {
     "data": {
      "image/png": "[encoded data removed]",
      "text/plain": [
       "<Figure size 1080x720 with 2 Axes>"
      ]
     },
     "metadata": {
      "needs_background": "light"
     },
     "output_type": "display_data"
    }
   ],
   "source": [
    "plt.figure(figsize=(15, 10))\n",
    "sns.heatmap(heats, xticklabels=[i2w[i] for i in range(len(i2w))], yticklabels=[i2w[i] for i in range(len(i2w))])"
   ]
  },
  {
   "cell_type": "code",
   "execution_count": 121,
   "metadata": {},
   "outputs": [],
   "source": [
    "def nearest_neighbours(k, word):\n",
    "    sims = heats[w2i[word]]\n",
    "    idxs = np.argpartition(-sims,k)[:k]\n",
    "    print(\"{} nearest neighbours for word [{}]: {}\".format(\n",
    "    k, word, [i2w[i] for i in idxs]))"
   ]
  },
  {
   "cell_type": "code",
   "execution_count": 122,
   "metadata": {},
   "outputs": [
    {
     "name": "stdout",
     "output_type": "stream",
     "text": [
      "5 nearest neighbours for word [processes]: ['data.', 'they', 'computers.', 'processes', 'other']\n"
     ]
    }
   ],
   "source": [
    "nearest_neighbours(5, 'processes')"
   ]
  },
  {
   "cell_type": "code",
   "execution_count": 80,
   "metadata": {},
   "outputs": [
    {
     "data": {
      "text/plain": [
       "array([100.75276   ,  -5.854785  , -15.46293   ,  -4.8532057 ,\n",
       "        -6.5533543 , -11.408157  , -17.90317   ,   4.0396338 ,\n",
       "        -9.909041  ,   0.8626145 ,  -1.8997228 ,   3.8317325 ,\n",
       "        16.686687  ,  -8.779096  ,  -4.0355124 ,   1.7404051 ,\n",
       "         2.3542473 ,   1.8836721 ,  -4.319974  ,  -2.1062913 ,\n",
       "         5.372782  ,  -6.704235  ,   0.78974295,  20.599695  ,\n",
       "         7.964328  , -10.423955  , -17.13267   ,  27.645763  ,\n",
       "        -3.6718132 ,   2.4360347 ,  11.40366   , -20.542986  ,\n",
       "        -6.8235893 ,   3.784876  ,   4.9776044 ,  11.71899   ,\n",
       "        13.539115  , -10.454012  ,  10.345394  ,   9.081442  ,\n",
       "        -4.274144  ,  13.265705  ,  10.150147  ,   1.0705128 ,\n",
       "         7.233412  ,  -2.8009257 ,  -4.6849947 ,  14.401538  ,\n",
       "        -6.0608687 ], dtype=float32)"
      ]
     },
     "execution_count": 80,
     "metadata": {},
     "output_type": "execute_result"
    }
   ],
   "source": [
    "heats[0]"
   ]
  },
  {
   "cell_type": "code",
   "execution_count": 32,
   "metadata": {
    "scrolled": true
   },
   "outputs": [
    {
     "data": {
      "text/plain": [
       "array([-7.79095590e-01, -6.62444782e+00,  5.64894342e+00, -5.81089306e+00,\n",
       "       -4.15627480e+00, -2.18042850e-01,  2.92145193e-01, -1.64303455e+01,\n",
       "       -1.45323715e+01, -5.27849793e-01,  1.12874765e+01,  3.55260348e+00,\n",
       "        8.96219444e+00, -4.52761364e+00, -1.51027751e+00, -5.62919712e+00,\n",
       "        4.88340616e+00, -1.03691330e+01,  6.08713531e+00,  1.03346195e+01,\n",
       "        2.70032740e+00,  6.29688835e+00, -4.63977861e+00, -3.75534797e+00,\n",
       "        9.91851139e+00, -1.03717060e+01,  9.37868118e+00,  2.06843987e+01,\n",
       "       -5.00594282e+00, -1.57131357e+01,  7.16549993e-01,  1.21212454e+01,\n",
       "        1.59772072e+01, -2.74214935e+00,  2.89527798e+00, -1.24280825e+01,\n",
       "        5.19435453e+00,  8.49944534e+01,  5.27144670e-02, -2.07379103e+00,\n",
       "       -1.20224180e+01, -1.25766993e+01, -4.54041719e+00,  2.68154907e+00,\n",
       "        3.29781418e+01, -6.03439713e+00, -6.56371927e+00,  6.57449436e+00,\n",
       "       -8.29389954e+00], dtype=float32)"
      ]
     },
     "execution_count": 32,
     "metadata": {},
     "output_type": "execute_result"
    }
   ],
   "source": [
    "heats[w2i['processes']]"
   ]
  },
  {
   "cell_type": "code",
   "execution_count": null,
   "metadata": {},
   "outputs": [],
   "source": []
  }
 ],
 "metadata": {
  "kernelspec": {
   "display_name": "Python 3",
   "language": "python",
   "name": "python3"
  },
  "language_info": {
   "codemirror_mode": {
    "name": "ipython",
    "version": 3
   },
   "file_extension": ".py",
   "mimetype": "text/x-python",
   "name": "python",
   "nbconvert_exporter": "python",
   "pygments_lexer": "ipython3",
   "version": "3.8.8"
  }
 },
 "nbformat": 4,
 "nbformat_minor": 2
}
