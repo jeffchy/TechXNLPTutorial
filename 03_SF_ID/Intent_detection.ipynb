{
 "cells": [
  {
   "cell_type": "markdown",
   "metadata": {},
   "source": [
    "# Load data and word embeddings"
   ]
  },
  {
   "cell_type": "code",
   "execution_count": 21,
   "metadata": {},
   "outputs": [],
   "source": [
    "import pickle\n",
    "import numpy as np\n",
    "from tqdm.notebook import tqdm"
   ]
  },
  {
   "cell_type": "code",
   "execution_count": 22,
   "metadata": {},
   "outputs": [],
   "source": [
    "dset = pickle.load(open('data/dataset.pkl', 'rb'))\n",
    "emb = pickle.load(open('data/glove.100.emb', 'rb'))\n",
    "t2i, i2t, s2i, i2s, in2i, i2in = dset['t2i'], dset['i2t'], dset['s2i'], dset['i2s'], dset['in2i'], dset['i2in']\n",
    "query_train, slot_train, intent_train = dset['query_train'], dset['slot_train'], dset['intent_train']\n",
    "query_dev, slot_dev, intent_dev = dset['query_dev'], dset['slot_dev'], dset['intent_dev']\n",
    "query_test, slot_test, intent_test = dset['query_test'], dset['slot_test'], dset['intent_test']"
   ]
  },
  {
   "cell_type": "code",
   "execution_count": 23,
   "metadata": {},
   "outputs": [
    {
     "name": "stdout",
     "output_type": "stream",
     "text": [
      "Vocabulary size in dataset: 943\n",
      "Number of sentense class in dataset: 26\n",
      "Number of token class in dataset: 129\n",
      "Word embedding shape VxD: (943, 100)\n"
     ]
    }
   ],
   "source": [
    "print(\"Vocabulary size in dataset: {}\".format(len(t2i)))\n",
    "print(\"Number of sentense class in dataset: {}\".format(len(in2i)))\n",
    "print(\"Number of token class in dataset: {}\".format(len(s2i)))\n",
    "print(\"Word embedding shape VxD: {}\".format(emb.shape))"
   ]
  },
  {
   "cell_type": "code",
   "execution_count": 24,
   "metadata": {},
   "outputs": [],
   "source": [
    "def print_sample(i, query, slot):\n",
    "    print([i2t[k] for k in query[i]], i2in[intent_train[i][0]])\n",
    "    print([i2s[k] for k in slot[i]],  i2in[intent_train[i][0]])"
   ]
  },
  {
   "cell_type": "code",
   "execution_count": 25,
   "metadata": {},
   "outputs": [
    {
     "name": "stdout",
     "output_type": "stream",
     "text": [
      "['bos', 'please', 'list', 'information', 'regarding', 'san', 'francisco', 'airport', 'eos'] airport\n",
      "['o', 'o', 'o', 'o', 'o', 'b-airport_name', 'i-airport_name', 'i-airport_name', 'o'] airport\n"
     ]
    }
   ],
   "source": [
    "print_sample(1, query_train, slot_train)"
   ]
  },
  {
   "cell_type": "code",
   "execution_count": 26,
   "metadata": {},
   "outputs": [
    {
     "name": "stdout",
     "output_type": "stream",
     "text": [
      "['bos', 'show', 'me', 'the', 'flights', 'from', 'oakland', 'to', 'denver', 'eos'] flight\n",
      "['o', 'o', 'o', 'o', 'o', 'o', 'b-fromloc.city_name', 'o', 'b-toloc.city_name', 'o'] flight\n"
     ]
    }
   ],
   "source": [
    "print_sample(2, query_train, slot_train)"
   ]
  },
  {
   "cell_type": "code",
   "execution_count": 27,
   "metadata": {},
   "outputs": [
    {
     "name": "stdout",
     "output_type": "stream",
     "text": [
      "['bos', 'how', 'many', 'fare', 'codes', 'belong', 'to', 'economy', 'class', 'eos'] quantity\n",
      "['o', 'o', 'o', 'o', 'o', 'o', 'o', 'b-economy', 'i-economy', 'o'] quantity\n"
     ]
    }
   ],
   "source": [
    "print_sample(3, query_train, slot_train)"
   ]
  },
  {
   "cell_type": "markdown",
   "metadata": {},
   "source": [
    "# Pad datasets! query and slot"
   ]
  },
  {
   "cell_type": "markdown",
   "metadata": {},
   "source": [
    "We use an additional symbol \"pad\", pad the sentences and query to have same lengths, and record their original length"
   ]
  },
  {
   "cell_type": "code",
   "execution_count": 28,
   "metadata": {},
   "outputs": [],
   "source": [
    "from utils import pad_dataset\n",
    "\n",
    "# add <pad> into the vocabulary\n",
    "i2t[len(i2t)] = '<pad>'\n",
    "t2i['<pad>'] = len(i2t) - 1\n",
    "emb_padded = np.append(emb, np.zeros((1, 100)), axis=0)\n",
    "\n",
    "seq_max_len = 30\n",
    "query_train_padded, train_lengths = pad_dataset(query_train, seq_max_len, t2i['<pad>'])\n",
    "query_dev_padded, dev_lengths = pad_dataset(query_dev, seq_max_len, t2i['<pad>'])\n",
    "query_test_padded, test_lengths = pad_dataset(query_test, seq_max_len, t2i['<pad>'])\n",
    "slot_train_padded, _ = pad_dataset(slot_train, seq_max_len, s2i['o'])\n",
    "slot_dev_padded, _ = pad_dataset(slot_dev, seq_max_len, s2i['o'])\n",
    "slot_test_padded, _ = pad_dataset(slot_test, seq_max_len, s2i['o'])"
   ]
  },
  {
   "cell_type": "code",
   "execution_count": 29,
   "metadata": {},
   "outputs": [
    {
     "name": "stdout",
     "output_type": "stream",
     "text": [
      "original lengths [11, 9, 10, 10, 10, 13, 11, 8, 11, 25]\n",
      "padded lengths [30, 30, 30, 30, 30, 30, 30, 30, 30, 30]\n",
      "example padded query: \n",
      "['bos', 'show', 'me', 'the', 'flights', 'from', 'oakland', 'to', 'denver', 'eos', '<pad>', '<pad>', '<pad>', '<pad>', '<pad>', '<pad>', '<pad>', '<pad>', '<pad>', '<pad>', '<pad>', '<pad>', '<pad>', '<pad>', '<pad>', '<pad>', '<pad>', '<pad>', '<pad>', '<pad>'] flight\n",
      "['o', 'o', 'o', 'o', 'o', 'o', 'b-fromloc.city_name', 'o', 'b-toloc.city_name', 'o', 'o', 'o', 'o', 'o', 'o', 'o', 'o', 'o', 'o', 'o', 'o', 'o', 'o', 'o', 'o', 'o', 'o', 'o', 'o', 'o'] flight\n"
     ]
    }
   ],
   "source": [
    "print(\"original lengths\", [len(query_train[i]) for i in range(10)])\n",
    "print(\"padded lengths\", [len(query_train_padded[i]) for i in range(10)])\n",
    "print(\"example padded query: \")\n",
    "print_sample(2, query_train_padded, slot_train_padded)"
   ]
  },
  {
   "cell_type": "markdown",
   "metadata": {},
   "source": [
    "# dataset and dataloader for slot filling and intent classification"
   ]
  },
  {
   "cell_type": "code",
   "execution_count": 30,
   "metadata": {},
   "outputs": [],
   "source": [
    "config = {\n",
    "    'bz': 100, # batch size\n",
    "    'rnn': 'LSTM',\n",
    "    'bidirection': True,\n",
    "    'rnn_hidden_dim': 100,\n",
    "    'epoch': 15,\n",
    "}"
   ]
  },
  {
   "cell_type": "code",
   "execution_count": 31,
   "metadata": {},
   "outputs": [],
   "source": [
    "from torch.utils.data import DataLoader, Dataset"
   ]
  },
  {
   "cell_type": "code",
   "execution_count": 32,
   "metadata": {},
   "outputs": [],
   "source": [
    "class IntentBatchDataset(Dataset):\n",
    "\n",
    "    def __init__(self, query, lengths, intent):\n",
    "        self.dataset = query\n",
    "        self.intent = intent\n",
    "        self.lengths = lengths\n",
    "\n",
    "    def __getitem__(self, idx):\n",
    "\n",
    "        return {\n",
    "            'x': np.array(self.dataset[idx], dtype=np.int32),\n",
    "            'in': np.array(self.intent[idx], dtype=np.int32),\n",
    "            'l': np.array(self.lengths[idx], dtype=np.int32),\n",
    "        }\n",
    "\n",
    "    def __len__(self):\n",
    "        return len(self.dataset)"
   ]
  },
  {
   "cell_type": "code",
   "execution_count": 33,
   "metadata": {},
   "outputs": [],
   "source": [
    "intent_dataset_train = IntentBatchDataset(query_train_padded, train_lengths, intent_train)\n",
    "intent_dataset_dev = IntentBatchDataset(query_dev_padded, dev_lengths, intent_dev)\n",
    "intent_dataset_test = IntentBatchDataset(query_test_padded, test_lengths, intent_test)"
   ]
  },
  {
   "cell_type": "code",
   "execution_count": 34,
   "metadata": {},
   "outputs": [],
   "source": [
    "bz = config['bz']\n",
    "intent_dataloader_train = DataLoader(intent_dataset_train, batch_size=bz)\n",
    "intent_dataloader_dev = DataLoader(intent_dataset_dev, batch_size=bz)\n",
    "intent_dataloader_test = DataLoader(intent_dataset_test, batch_size=bz)"
   ]
  },
  {
   "cell_type": "markdown",
   "metadata": {},
   "source": [
    "# Model for intent classification"
   ]
  },
  {
   "cell_type": "code",
   "execution_count": 35,
   "metadata": {},
   "outputs": [],
   "source": [
    "import torch\n",
    "from torch import nn\n",
    "from torch.nn.utils.rnn import pad_packed_sequence, pack_padded_sequence\n",
    "\n",
    "class IntentNeuralSoftmax(nn.Module):\n",
    "    def __init__(self, pretrained_embed, intent_size, config):\n",
    "        super(IntentNeuralSoftmax, self).__init__()\n",
    "\n",
    "        self.bidirection = config['bidirection']\n",
    "        self.directions = 2 if self.bidirection else 1\n",
    "        self.is_cuda = torch.cuda.is_available()\n",
    "        self.V, self.D = pretrained_embed.shape\n",
    "        self.rnn_type = config['rnn']\n",
    "        self.rnn_hidden_dim = config['rnn_hidden_dim'] // 2 if \\\n",
    "            self.bidirection else config['rnn_hidden_dim'] \n",
    "\n",
    "        self.intent_size = intent_size\n",
    "\n",
    "        self.loss = nn.CrossEntropyLoss()\n",
    "\n",
    "        if self.rnn_type == 'RNN':\n",
    "            self.rnn = nn.RNN(input_size=self.D,\n",
    "                              hidden_size=self.rnn_hidden_dim,\n",
    "                              num_layers=1,\n",
    "                              batch_first=True,\n",
    "                              bidirectional=self.bidirection,\n",
    "                              bias=False)\n",
    "\n",
    "        elif self.rnn_type == 'LSTM':\n",
    "            self.rnn = nn.LSTM(input_size=self.D,\n",
    "                               hidden_size=self.rnn_hidden_dim,\n",
    "                               num_layers=1,\n",
    "                               batch_first=True,\n",
    "                               bidirectional=self.bidirection,\n",
    "                               bias=False)\n",
    "\n",
    "        self.embedding = nn.Embedding.from_pretrained(torch.from_numpy(pretrained_embed).float(),\n",
    "                                                      freeze=True)  # V x D\n",
    "\n",
    "        self.linear_intent = nn.Linear(self.rnn_hidden_dim*self.directions, self.intent_size)\n",
    "\n",
    "    def forward(self, input, label_intent, lengths):\n",
    "        input = self.embedding(input)  # B x L x D\n",
    "        pack_padded_seq_input = pack_padded_sequence(input, lengths.cpu(), batch_first=True, enforce_sorted=False)\n",
    "\n",
    "        B, L, D = input.size()\n",
    "\n",
    "        if self.rnn_type in ['RNN']:\n",
    "            output_packed, hn = self.rnn(pack_padded_seq_input)  # B x L x H\n",
    "        elif self.rnn_type == 'LSTM':\n",
    "            output_packed, (hn, cn) = self.rnn(pack_padded_seq_input)  # B x L x H\n",
    "\n",
    "        output_padded, output_lengths = pad_packed_sequence(output_packed, batch_first=True)\n",
    "\n",
    "        # intent classification\n",
    "        last_hidden = output_padded[torch.arange(B), output_lengths-1, :]\n",
    "        score_intent = self.linear_intent(last_hidden)\n",
    "\n",
    "        loss_intent, pred_labels_intent = \\\n",
    "            self.calculate_intent_loss(score_intent, label_intent)\n",
    "\n",
    "        return loss_intent, pred_labels_intent\n",
    "\n",
    "    def calculate_intent_loss(self, scores_intent, label_intent):\n",
    "        loss = self.loss(scores_intent, label_intent.squeeze())\n",
    "        max_score_intent, pred_labels_intent = scores_intent.max(dim=1)\n",
    "        return loss, pred_labels_intent\n"
   ]
  },
  {
   "cell_type": "markdown",
   "metadata": {},
   "source": [
    "# funciton: validate, train and metrics"
   ]
  },
  {
   "cell_type": "code",
   "execution_count": 36,
   "metadata": {},
   "outputs": [],
   "source": [
    "from utils import eval_acc\n",
    "\n",
    "def val(data, model):\n",
    "    all_pred_intent_label = []\n",
    "    all_true_intent_label = []\n",
    "    all_lengths = []\n",
    "    model.eval()\n",
    "    with torch.no_grad():\n",
    "\n",
    "        for batch in data:\n",
    "\n",
    "            x = batch['x'].long()\n",
    "            label_intent = batch['in'].long()\n",
    "            lengths = batch['l'].long()\n",
    "\n",
    "            loss_intent, pred_intent_label = model(x, label_intent, lengths)\n",
    "\n",
    "            all_pred_intent_label += list(pred_intent_label.cpu())\n",
    "            all_true_intent_label += list(label_intent.cpu())\n",
    "            all_lengths += list(lengths.cpu())\n",
    "\n",
    "    acc_intent = eval_acc(\n",
    "        sent_pred=all_pred_intent_label, sent_true=all_true_intent_label)\n",
    "\n",
    "    model.train()\n",
    "    return acc_intent\n",
    "\n",
    "def train(data, model, optimizer):\n",
    "    all_pred_intent_label = []\n",
    "    all_true_intent_label = []\n",
    "    all_lengths = []\n",
    "    \n",
    "    for batch in data:\n",
    "        \n",
    "        optimizer.zero_grad()\n",
    "\n",
    "        x = batch['x'].long()\n",
    "        label_intent = batch['in'].long()\n",
    "        lengths = batch['l'].long()\n",
    "\n",
    "        loss_intent, pred_intent_label = model(x, label_intent, lengths)\n",
    "        loss_intent.backward()\n",
    "        optimizer.step()\n",
    "\n",
    "        all_pred_intent_label += list(pred_intent_label.cpu())\n",
    "        all_true_intent_label += list(label_intent.cpu())\n",
    "        all_lengths += list(lengths.cpu())\n",
    "\n",
    "    acc_intent = eval_acc(\n",
    "        sent_pred=all_pred_intent_label, sent_true=all_true_intent_label)\n",
    "\n",
    "    return acc_intent"
   ]
  },
  {
   "cell_type": "markdown",
   "metadata": {},
   "source": [
    "# init model and optimizer"
   ]
  },
  {
   "cell_type": "code",
   "execution_count": 37,
   "metadata": {},
   "outputs": [
    {
     "name": "stdout",
     "output_type": "stream",
     "text": [
      "ALL TRAINABLE PARAMETERS: 62626\n",
      "IntentNeuralSoftmax(\n",
      "  (loss): CrossEntropyLoss()\n",
      "  (rnn): LSTM(100, 50, bias=False, batch_first=True, bidirectional=True)\n",
      "  (embedding): Embedding(944, 100)\n",
      "  (linear_intent): Linear(in_features=100, out_features=26, bias=True)\n",
      ")\n"
     ]
    }
   ],
   "source": [
    "# for padding\n",
    "model = IntentNeuralSoftmax(pretrained_embed=emb_padded,\n",
    "                           intent_size=len(in2i),\n",
    "                           config=config)\n",
    "\n",
    "pytorch_total_params = sum(p.numel() for p in model.parameters() if p.requires_grad)\n",
    "print('ALL TRAINABLE PARAMETERS: {}'.format(pytorch_total_params))\n",
    "\n",
    "optimizer = torch.optim.Adam(model.parameters(), lr=0.001, weight_decay=0)\n",
    "print(model)"
   ]
  },
  {
   "cell_type": "markdown",
   "metadata": {},
   "source": [
    "# train and evaluation, do not use test for hyper-params tuning"
   ]
  },
  {
   "cell_type": "code",
   "execution_count": 38,
   "metadata": {},
   "outputs": [
    {
     "name": "stdout",
     "output_type": "stream",
     "text": [
      "epoch: 1, train_acc: 0.6870919136112507, dev_acc: 0.7439759036144579: test_acc: 0.7077267637178052\n",
      "epoch: 2, train_acc: 0.7345554997488699, dev_acc: 0.7439759036144579: test_acc: 0.7077267637178052\n",
      "epoch: 3, train_acc: 0.7378201908588649, dev_acc: 0.7580321285140562: test_acc: 0.7323628219484882\n",
      "epoch: 4, train_acc: 0.784028126569563, dev_acc: 0.8654618473895582: test_acc: 0.8051511758118701\n",
      "epoch: 5, train_acc: 0.8679055750878956, dev_acc: 0.8865461847389559: test_acc: 0.8219484882418813\n",
      "epoch: 6, train_acc: 0.8812154696132597, dev_acc: 0.893574297188755: test_acc: 0.8241881298992161\n",
      "epoch: 7, train_acc: 0.8937719738824711, dev_acc: 0.9166666666666666: test_acc: 0.8365061590145577\n",
      "epoch: 8, train_acc: 0.9090909090909091, dev_acc: 0.9176706827309237: test_acc: 0.8555431131019037\n",
      "epoch: 9, train_acc: 0.9156202913108991, dev_acc: 0.9257028112449799: test_acc: 0.8633818589025756\n",
      "epoch: 10, train_acc: 0.9224008036162732, dev_acc: 0.928714859437751: test_acc: 0.8756998880179171\n",
      "epoch: 11, train_acc: 0.9337016574585635, dev_acc: 0.9327309236947792: test_acc: 0.8779395296752519\n",
      "epoch: 12, train_acc: 0.9392265193370166, dev_acc: 0.9357429718875502: test_acc: 0.8857782754759238\n",
      "epoch: 13, train_acc: 0.939728779507785, dev_acc: 0.9417670682730924: test_acc: 0.8936170212765957\n",
      "epoch: 14, train_acc: 0.9502762430939227, dev_acc: 0.9387550200803213: test_acc: 0.9003359462486002\n",
      "epoch: 15, train_acc: 0.9552988448016072, dev_acc: 0.9477911646586346: test_acc: 0.9137737961926092\n",
      "final test acc: 0.9137737961926092\n"
     ]
    }
   ],
   "source": [
    "from copy import deepcopy\n",
    "train_acc_list = []\n",
    "dev_acc_list = []\n",
    "test_acc_list = [] # just for visualization\n",
    "\n",
    "best_dev_acc = -1\n",
    "best_model = model\n",
    "\n",
    "for i in range(config['epoch']):\n",
    "    \n",
    "    train_acc = train(data=intent_dataloader_train, model=model, optimizer=optimizer)\n",
    "    dev_acc = val(data=intent_dataloader_dev, model=model)\n",
    "    test_acc = val(data=intent_dataloader_test, model=model)\n",
    "    \n",
    "    if dev_acc > best_dev_acc:\n",
    "        best_dev_acc = dev_acc\n",
    "        best_model = deepcopy(model)\n",
    "    \n",
    "    print('epoch: {}, train_acc: {}, dev_acc: {}: test_acc: {}'.\n",
    "          format(i+1, train_acc, dev_acc, test_acc))\n",
    "    train_acc_list.append(train_acc)\n",
    "    dev_acc_list.append(dev_acc)\n",
    "    test_acc_list.append(test_acc)\n",
    "    \n",
    "    \n",
    "print('final test acc: {}'.format(val(data=intent_dataloader_test, model=best_model)))"
   ]
  },
  {
   "cell_type": "code",
   "execution_count": 39,
   "metadata": {},
   "outputs": [],
   "source": [
    "import seaborn as sns\n",
    "import matplotlib.pyplot as plt"
   ]
  },
  {
   "cell_type": "code",
   "execution_count": 40,
   "metadata": {},
   "outputs": [
    {
     "data": {
      "text/plain": [
       "Text(0.5, 1.0, 'accuracy curves')"
      ]
     },
     "execution_count": 40,
     "metadata": {},
     "output_type": "execute_result"
    },
    {
     "data": {
      "image/png": "[encoded data removed]",
      "text/plain": [
       "<Figure size 432x288 with 1 Axes>"
      ]
     },
     "metadata": {
      "needs_background": "light"
     },
     "output_type": "display_data"
    }
   ],
   "source": [
    "plt.plot(train_acc_list, label='train')\n",
    "plt.plot(dev_acc_list, label='dev')\n",
    "plt.plot(test_acc_list, label='test')\n",
    "plt.legend()\n",
    "plt.xlabel('epoch')\n",
    "plt.ylabel('acc')\n",
    "plt.title('accuracy curves')"
   ]
  },
  {
   "cell_type": "code",
   "execution_count": null,
   "metadata": {},
   "outputs": [],
   "source": []
  },
  {
   "cell_type": "code",
   "execution_count": null,
   "metadata": {},
   "outputs": [],
   "source": []
  },
  {
   "cell_type": "code",
   "execution_count": null,
   "metadata": {},
   "outputs": [],
   "source": []
  }
 ],
 "metadata": {
  "kernelspec": {
   "display_name": "Python 3",
   "language": "python",
   "name": "python3"
  },
  "language_info": {
   "codemirror_mode": {
    "name": "ipython",
    "version": 3
   },
   "file_extension": ".py",
   "mimetype": "text/x-python",
   "name": "python",
   "nbconvert_exporter": "python",
   "pygments_lexer": "ipython3",
   "version": "3.8.8"
  }
 },
 "nbformat": 4,
 "nbformat_minor": 2
}
