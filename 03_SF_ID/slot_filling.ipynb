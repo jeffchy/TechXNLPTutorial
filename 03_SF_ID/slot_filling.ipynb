{
 "cells": [
  {
   "cell_type": "markdown",
   "metadata": {},
   "source": [
    "# Load data and word embeddings"
   ]
  },
  {
   "cell_type": "code",
   "execution_count": 53,
   "metadata": {},
   "outputs": [],
   "source": [
    "import pickle\n",
    "import numpy as np\n",
    "from tqdm.notebook import tqdm"
   ]
  },
  {
   "cell_type": "code",
   "execution_count": 54,
   "metadata": {},
   "outputs": [],
   "source": [
    "dset = pickle.load(open('data/dataset.pkl', 'rb'))\n",
    "emb = pickle.load(open('data/glove.100.emb', 'rb'))\n",
    "t2i, i2t, s2i, i2s, in2i, i2in = dset['t2i'], dset['i2t'], dset['s2i'], dset['i2s'], dset['in2i'], dset['i2in']\n",
    "query_train, slot_train, intent_train = dset['query_train'], dset['slot_train'], dset['intent_train']\n",
    "query_dev, slot_dev, intent_dev = dset['query_dev'], dset['slot_dev'], dset['intent_dev']\n",
    "query_test, slot_test, intent_test = dset['query_test'], dset['slot_test'], dset['intent_test']"
   ]
  },
  {
   "cell_type": "code",
   "execution_count": 55,
   "metadata": {},
   "outputs": [
    {
     "name": "stdout",
     "output_type": "stream",
     "text": [
      "Vocabulary size in dataset: 943\n",
      "Number of sentense class in dataset: 26\n",
      "Number of token class in dataset: 129\n",
      "Word embedding shape VxD: (943, 100)\n"
     ]
    }
   ],
   "source": [
    "print(\"Vocabulary size in dataset: {}\".format(len(t2i)))\n",
    "print(\"Number of sentense class in dataset: {}\".format(len(in2i)))\n",
    "print(\"Number of token class in dataset: {}\".format(len(s2i)))\n",
    "print(\"Word embedding shape VxD: {}\".format(emb.shape))"
   ]
  },
  {
   "cell_type": "code",
   "execution_count": 56,
   "metadata": {},
   "outputs": [],
   "source": [
    "def print_sample(i, query, slot):\n",
    "    print([i2t[k] for k in query[i]], i2in[intent_train[i][0]])\n",
    "    print([i2s[k] for k in slot[i]],  i2in[intent_train[i][0]])"
   ]
  },
  {
   "cell_type": "code",
   "execution_count": 57,
   "metadata": {},
   "outputs": [
    {
     "name": "stdout",
     "output_type": "stream",
     "text": [
      "['bos', 'please', 'list', 'information', 'regarding', 'san', 'francisco', 'airport', 'eos'] airport\n",
      "['o', 'o', 'o', 'o', 'o', 'b-airport_name', 'i-airport_name', 'i-airport_name', 'o'] airport\n"
     ]
    }
   ],
   "source": [
    "print_sample(1, query_train, slot_train)"
   ]
  },
  {
   "cell_type": "code",
   "execution_count": 58,
   "metadata": {},
   "outputs": [
    {
     "name": "stdout",
     "output_type": "stream",
     "text": [
      "['bos', 'show', 'me', 'the', 'flights', 'from', 'oakland', 'to', 'denver', 'eos'] flight\n",
      "['o', 'o', 'o', 'o', 'o', 'o', 'b-fromloc.city_name', 'o', 'b-toloc.city_name', 'o'] flight\n"
     ]
    }
   ],
   "source": [
    "print_sample(2, query_train, slot_train)"
   ]
  },
  {
   "cell_type": "code",
   "execution_count": 59,
   "metadata": {},
   "outputs": [
    {
     "name": "stdout",
     "output_type": "stream",
     "text": [
      "['bos', 'how', 'many', 'fare', 'codes', 'belong', 'to', 'economy', 'class', 'eos'] quantity\n",
      "['o', 'o', 'o', 'o', 'o', 'o', 'o', 'b-economy', 'i-economy', 'o'] quantity\n"
     ]
    }
   ],
   "source": [
    "print_sample(3, query_train, slot_train)"
   ]
  },
  {
   "cell_type": "markdown",
   "metadata": {},
   "source": [
    "# Pad datasets! query and slot"
   ]
  },
  {
   "cell_type": "code",
   "execution_count": 60,
   "metadata": {},
   "outputs": [],
   "source": [
    "def pad_dataset(query, seq_max_len, pad_idx):\n",
    "\n",
    "    lengths = []\n",
    "    new_query = []\n",
    "    new_query_inverse = []\n",
    "    for q in query:\n",
    "        length = len(q)\n",
    "        if length <= 0:\n",
    "            continue\n",
    "        if length > seq_max_len:\n",
    "            q = q[: seq_max_len]\n",
    "            length = seq_max_len\n",
    "        else:\n",
    "            remain = seq_max_len - length\n",
    "            remain_arr = np.repeat(pad_idx, remain)\n",
    "            q = np.concatenate((q, remain_arr))\n",
    "            assert len(q) == seq_max_len\n",
    "\n",
    "        new_query.append(q)\n",
    "        lengths.append(length)\n",
    "\n",
    "    return new_query, lengths"
   ]
  },
  {
   "cell_type": "markdown",
   "metadata": {},
   "source": [
    "We use an additional symbol \"pad\", pad the sentences and query to have same lengths, and record their original length"
   ]
  },
  {
   "cell_type": "code",
   "execution_count": 61,
   "metadata": {},
   "outputs": [],
   "source": [
    "# add <pad> into the vocabulary\n",
    "i2t[len(i2t)] = '<pad>'\n",
    "t2i['<pad>'] = len(i2t) - 1\n",
    "emb_padded = np.append(emb, np.zeros((1, 100)), axis=0)\n",
    "\n",
    "seq_max_len = 30\n",
    "query_train_padded, train_lengths = pad_dataset(query_train, seq_max_len, t2i['<pad>'])\n",
    "query_dev_padded, dev_lengths = pad_dataset(query_dev, seq_max_len, t2i['<pad>'])\n",
    "query_test_padded, test_lengths = pad_dataset(query_test, seq_max_len, t2i['<pad>'])\n",
    "slot_train_padded, _ = pad_dataset(slot_train, seq_max_len, s2i['o'])\n",
    "slot_dev_padded, _ = pad_dataset(slot_dev, seq_max_len, s2i['o'])\n",
    "slot_test_padded, _ = pad_dataset(slot_test, seq_max_len, s2i['o'])"
   ]
  },
  {
   "cell_type": "code",
   "execution_count": 62,
   "metadata": {},
   "outputs": [
    {
     "name": "stdout",
     "output_type": "stream",
     "text": [
      "original lengths [11, 9, 10, 10, 10, 13, 11, 8, 11, 25]\n",
      "padded lengths [30, 30, 30, 30, 30, 30, 30, 30, 30, 30]\n",
      "example padded query: \n",
      "['bos', 'show', 'me', 'the', 'flights', 'from', 'oakland', 'to', 'denver', 'eos', '<pad>', '<pad>', '<pad>', '<pad>', '<pad>', '<pad>', '<pad>', '<pad>', '<pad>', '<pad>', '<pad>', '<pad>', '<pad>', '<pad>', '<pad>', '<pad>', '<pad>', '<pad>', '<pad>', '<pad>'] flight\n",
      "['o', 'o', 'o', 'o', 'o', 'o', 'b-fromloc.city_name', 'o', 'b-toloc.city_name', 'o', 'o', 'o', 'o', 'o', 'o', 'o', 'o', 'o', 'o', 'o', 'o', 'o', 'o', 'o', 'o', 'o', 'o', 'o', 'o', 'o'] flight\n"
     ]
    }
   ],
   "source": [
    "print(\"original lengths\", [len(query_train[i]) for i in range(10)])\n",
    "print(\"padded lengths\", [len(query_train_padded[i]) for i in range(10)])\n",
    "print(\"example padded query: \")\n",
    "print_sample(2, query_train_padded, slot_train_padded)"
   ]
  },
  {
   "cell_type": "markdown",
   "metadata": {},
   "source": [
    "# dataset and dataloader for slot filling and intent classification"
   ]
  },
  {
   "cell_type": "code",
   "execution_count": 63,
   "metadata": {},
   "outputs": [],
   "source": [
    "config = {\n",
    "    'bz': 100, # batch size\n",
    "    'rnn': 'LSTM',\n",
    "    'bidirection': True,\n",
    "    'rnn_hidden_dim': 100,\n",
    "    'epoch': 15,\n",
    "}"
   ]
  },
  {
   "cell_type": "code",
   "execution_count": 64,
   "metadata": {},
   "outputs": [],
   "source": [
    "from torch.utils.data import DataLoader, Dataset"
   ]
  },
  {
   "cell_type": "code",
   "execution_count": 65,
   "metadata": {},
   "outputs": [],
   "source": [
    "class IntentBatchDataset(Dataset):\n",
    "\n",
    "    def __init__(self, query, lengths, intent):\n",
    "        self.dataset = query\n",
    "        self.intent = intent\n",
    "        self.lengths = lengths\n",
    "\n",
    "    def __getitem__(self, idx):\n",
    "\n",
    "        return {\n",
    "            'x': np.array(self.dataset[idx], dtype=np.int32),\n",
    "            'in': np.array(self.intent[idx], dtype=np.int32),\n",
    "            'l': np.array(self.lengths[idx], dtype=np.int32),\n",
    "        }\n",
    "\n",
    "    def __len__(self):\n",
    "        return len(self.dataset)\n",
    "    \n",
    "    \n",
    "class SlotBatchDataset(Dataset):\n",
    "\n",
    "    def __init__(self, query, lengths, slot):\n",
    "        self.dataset = query\n",
    "        self.intent = slot\n",
    "        self.lengths = lengths\n",
    "\n",
    "    def __getitem__(self, idx):\n",
    "\n",
    "        return {\n",
    "            'x': np.array(self.dataset[idx], dtype=np.int32),\n",
    "            's': np.array(self.slot[idx], dtype=np.int32),\n",
    "            'l': np.array(self.lengths[idx], dtype=np.int32),\n",
    "        }\n",
    "\n",
    "    def __len__(self):\n",
    "        return len(self.dataset)"
   ]
  },
  {
   "cell_type": "code",
   "execution_count": 66,
   "metadata": {},
   "outputs": [],
   "source": [
    "intent_dataset_train = IntentBatchDataset(query_train_padded, train_lengths, intent_train)\n",
    "intent_dataset_dev = IntentBatchDataset(query_dev_padded, dev_lengths, intent_dev)\n",
    "intent_dataset_test = IntentBatchDataset(query_test_padded, test_lengths, intent_test)"
   ]
  },
  {
   "cell_type": "code",
   "execution_count": 67,
   "metadata": {},
   "outputs": [],
   "source": [
    "bz = config['bz']\n",
    "intent_dataloader_train = DataLoader(intent_dataset_train, batch_size=bz)\n",
    "intent_dataloader_dev = DataLoader(intent_dataset_dev, batch_size=bz)\n",
    "intent_dataloader_test = DataLoader(intent_dataset_test, batch_size=bz)"
   ]
  },
  {
   "cell_type": "markdown",
   "metadata": {},
   "source": [
    "# Model for intent classification"
   ]
  },
  {
   "cell_type": "code",
   "execution_count": 68,
   "metadata": {},
   "outputs": [],
   "source": [
    "import torch\n",
    "from torch import nn\n",
    "from torch.nn.utils.rnn import pad_packed_sequence, pack_padded_sequence\n",
    "\n",
    "class IntentNeuralSoftmax(nn.Module):\n",
    "    def __init__(self, pretrained_embed, intent_size, config):\n",
    "        super(IntentNeuralSoftmax, self).__init__()\n",
    "\n",
    "        self.bidirection = config['bidirection']\n",
    "        self.directions = 2 if self.bidirection else 1\n",
    "        self.is_cuda = torch.cuda.is_available()\n",
    "        self.V, self.D = pretrained_embed.shape\n",
    "        self.rnn_type = config['rnn']\n",
    "        self.rnn_hidden_dim = config['rnn_hidden_dim'] // 2 if \\\n",
    "            self.bidirection else config['rnn_hidden_dim'] \n",
    "\n",
    "        self.intent_size = intent_size\n",
    "#         self.slot_size = slot_size\n",
    "\n",
    "        self.loss = nn.CrossEntropyLoss()\n",
    "\n",
    "        if self.rnn_type == 'RNN':\n",
    "            self.rnn = nn.RNN(input_size=self.D,\n",
    "                              hidden_size=self.rnn_hidden_dim,\n",
    "                              num_layers=1,\n",
    "                              batch_first=True,\n",
    "                              bidirectional=self.bidirection,\n",
    "                              bias=False)\n",
    "\n",
    "        elif self.rnn_type == 'LSTM':\n",
    "            self.rnn = nn.LSTM(input_size=self.D,\n",
    "                               hidden_size=self.rnn_hidden_dim,\n",
    "                               num_layers=1,\n",
    "                               batch_first=True,\n",
    "                               bidirectional=self.bidirection,\n",
    "                               bias=False)\n",
    "\n",
    "        self.embedding = nn.Embedding.from_pretrained(torch.from_numpy(pretrained_embed).float(),\n",
    "                                                      freeze=True)  # V x D\n",
    "\n",
    "#         self.linear = nn.Linear(self.directions * self.rnn_hidden_dim, self.slot_size)\n",
    "        self.linear_intent = nn.Linear(self.rnn_hidden_dim*self.directions, self.intent_size)\n",
    "\n",
    "    def forward(self, input, label_intent, lengths):\n",
    "        input = self.embedding(input)  # B x L x D\n",
    "        pack_padded_seq_input = pack_padded_sequence(input, lengths.cpu(), batch_first=True, enforce_sorted=False)\n",
    "\n",
    "        B, L, D = input.size()\n",
    "\n",
    "        if self.rnn_type in ['RNN']:\n",
    "            output_packed, hn = self.rnn(pack_padded_seq_input)  # B x L x H\n",
    "        elif self.rnn_type == 'LSTM':\n",
    "            output_packed, (hn, cn) = self.rnn(pack_padded_seq_input)  # B x L x H\n",
    "\n",
    "        output_padded, output_lengths = pad_packed_sequence(output_packed, batch_first=True)\n",
    "\n",
    "        # slot filling\n",
    "#         scores = self.linear(output_padded)  # B x L x C (C+2)\n",
    "\n",
    "        # intent classification\n",
    "        last_hidden = output_padded[torch.arange(B), output_lengths-1, :]\n",
    "        score_intent = self.linear_intent(last_hidden)\n",
    "\n",
    "#         loss_slot, pred_labels_slot, flattened_true_label = \\\n",
    "#             self.calculate_loss_slot(scores, label_slot, lengths)\n",
    "\n",
    "        loss_intent, pred_labels_intent = \\\n",
    "            self.calculate_intent_loss(score_intent, label_intent)\n",
    "\n",
    "        return loss_intent, pred_labels_intent\n",
    "\n",
    "#     def calculate_loss_slot(self, scores_slot, label_slot, lengths):\n",
    "\n",
    "#         flattened_true_label = flatten(label_slot, lengths)\n",
    "#         flattened_all_scores = flatten(scores_slot, lengths)\n",
    "        \n",
    "#         loss_slot = self.loss(flattened_all_scores, flattened_true_label)\n",
    "\n",
    "#         _, pred_labels_slot = flattened_all_scores.max(dim=1)\n",
    "\n",
    "#         return loss_slot, pred_labels_slot, flattened_true_label\n",
    "\n",
    "    def calculate_intent_loss(self, scores_intent, label_intent):\n",
    "        loss = self.loss(scores_intent, label_intent.squeeze())\n",
    "        max_score_intent, pred_labels_intent = scores_intent.max(dim=1)\n",
    "        return loss, pred_labels_intent\n"
   ]
  },
  {
   "cell_type": "markdown",
   "metadata": {},
   "source": [
    "# init model and optimizer"
   ]
  },
  {
   "cell_type": "code",
   "execution_count": 69,
   "metadata": {},
   "outputs": [
    {
     "name": "stdout",
     "output_type": "stream",
     "text": [
      "ALL TRAINABLE PARAMETERS: 62626\n",
      "IntentNeuralSoftmax(\n",
      "  (loss): CrossEntropyLoss()\n",
      "  (rnn): LSTM(100, 50, bias=False, batch_first=True, bidirectional=True)\n",
      "  (embedding): Embedding(944, 100)\n",
      "  (linear_intent): Linear(in_features=100, out_features=26, bias=True)\n",
      ")\n"
     ]
    }
   ],
   "source": [
    "# for padding\n",
    "model = IntentNeuralSoftmax(pretrained_embed=emb_padded,\n",
    "                           intent_size=len(in2i),\n",
    "                           config=config)\n",
    "\n",
    "pytorch_total_params = sum(p.numel() for p in model.parameters() if p.requires_grad)\n",
    "print('ALL TRAINABLE PARAMETERS: {}'.format(pytorch_total_params))\n",
    "\n",
    "optimizer = torch.optim.Adam(model.parameters(), lr=0.001, weight_decay=0)\n",
    "print(model)"
   ]
  },
  {
   "cell_type": "code",
   "execution_count": 70,
   "metadata": {},
   "outputs": [],
   "source": [
    "from sklearn.metrics import confusion_matrix, f1_score, precision_score, recall_score, accuracy_score\n",
    "\n",
    "def eval_acc(sent_pred, sent_true):\n",
    "    assert len(sent_pred) == len(sent_true)\n",
    "    acc = accuracy_score(torch.LongTensor(sent_true), sent_pred)\n",
    "    return acc"
   ]
  },
  {
   "cell_type": "code",
   "execution_count": 71,
   "metadata": {},
   "outputs": [],
   "source": [
    "def val(dataloader, model):\n",
    "    all_pred_intent_label = []\n",
    "    all_true_intent_label = []\n",
    "    all_lengths = []\n",
    "#     data = tqdm(dataloader)\n",
    "    data = dataloader\n",
    "    model.eval()\n",
    "    with torch.no_grad():\n",
    "\n",
    "        for batch in data:\n",
    "\n",
    "            x = batch['x'].long()\n",
    "            label_intent = batch['in'].long()\n",
    "#             label_slot = batch['s']\n",
    "            lengths = batch['l'].long()\n",
    "\n",
    "            # # code for global method\n",
    "            loss_intent, pred_intent_label = model(x, label_intent, lengths)\n",
    "\n",
    "            all_pred_intent_label += list(pred_intent_label.cpu())\n",
    "            all_true_intent_label += list(label_intent.cpu())\n",
    "            all_lengths += list(lengths.cpu())\n",
    "\n",
    "    acc_intent = eval_acc(\n",
    "        sent_pred=all_pred_intent_label, sent_true=all_true_intent_label)\n",
    "\n",
    "    model.train()\n",
    "    return acc_intent\n",
    "\n",
    "def train(dataloader, model, optimizer):\n",
    "    all_pred_intent_label = []\n",
    "    all_true_intent_label = []\n",
    "    all_lengths = []\n",
    "#     data = tqdm(dataloader)\n",
    "    data = dataloader\n",
    "    \n",
    "    for batch in data:\n",
    "        \n",
    "        optimizer.zero_grad()\n",
    "\n",
    "        x = batch['x'].long()\n",
    "        label_intent = batch['in'].long()\n",
    "#             label_slot = batch['s']\n",
    "        lengths = batch['l'].long()\n",
    "\n",
    "        # # code for global method\n",
    "        loss_intent, pred_intent_label = model(x, label_intent, lengths)\n",
    "        loss_intent.backward()\n",
    "        optimizer.step()\n",
    "\n",
    "        all_pred_intent_label += list(pred_intent_label.cpu())\n",
    "        all_true_intent_label += list(label_intent.cpu())\n",
    "        all_lengths += list(lengths.cpu())\n",
    "\n",
    "    acc_intent = eval_acc(\n",
    "        sent_pred=all_pred_intent_label, sent_true=all_true_intent_label)\n",
    "\n",
    "    return acc_intent"
   ]
  },
  {
   "cell_type": "markdown",
   "metadata": {},
   "source": [
    "# train and evaluation, do not use test for hyper-params tuning"
   ]
  },
  {
   "cell_type": "code",
   "execution_count": 72,
   "metadata": {},
   "outputs": [],
   "source": [
    "from copy import deepcopy\n",
    "train_acc_list = []\n",
    "dev_acc_list = []\n",
    "test_acc_list = [] # just for visualization\n",
    "\n",
    "best_dev_acc = -1\n",
    "best_model = model"
   ]
  },
  {
   "cell_type": "code",
   "execution_count": 74,
   "metadata": {},
   "outputs": [
    {
     "name": "stdout",
     "output_type": "stream",
     "text": [
      "epoch: 1, train_acc: 0.9660974384731291, dev_acc: 0.9548192771084337: test_acc: 0.9182530795072789\n",
      "epoch: 2, train_acc: 0.9660974384731291, dev_acc: 0.9578313253012049: test_acc: 0.9227323628219485\n",
      "epoch: 3, train_acc: 0.9708689100954294, dev_acc: 0.9588353413654619: test_acc: 0.9249720044792833\n",
      "epoch: 4, train_acc: 0.9741336012054244, dev_acc: 0.9578313253012049: test_acc: 0.9260918253079508\n",
      "epoch: 5, train_acc: 0.9773982923154194, dev_acc: 0.9588353413654619: test_acc: 0.9305711086226204\n",
      "epoch: 6, train_acc: 0.9809141135107986, dev_acc: 0.9568273092369478: test_acc: 0.9260918253079508\n",
      "epoch: 7, train_acc: 0.9814163736815671, dev_acc: 0.9578313253012049: test_acc: 0.9328107502799552\n",
      "epoch: 8, train_acc: 0.9796584630838775, dev_acc: 0.9598393574297188: test_acc: 0.9417693169092946\n",
      "epoch: 9, train_acc: 0.9819186338523355, dev_acc: 0.964859437751004: test_acc: 0.9417693169092946\n",
      "epoch: 10, train_acc: 0.9866901054746359, dev_acc: 0.9568273092369478: test_acc: 0.9361702127659575\n",
      "epoch: 11, train_acc: 0.9849321948769463, dev_acc: 0.9598393574297188: test_acc: 0.9339305711086227\n",
      "epoch: 12, train_acc: 0.9874434957307886, dev_acc: 0.963855421686747: test_acc: 0.9417693169092946\n",
      "epoch: 13, train_acc: 0.9899547965846308, dev_acc: 0.9668674698795181: test_acc: 0.9406494960806271\n",
      "epoch: 14, train_acc: 0.9922149673530889, dev_acc: 0.9658634538152611: test_acc: 0.9361702127659575\n",
      "epoch: 15, train_acc: 0.9819186338523355, dev_acc: 0.9518072289156626: test_acc: 0.9171332586786114\n",
      "final test acc: 0.7077267637178052\n"
     ]
    }
   ],
   "source": [
    "for i in range(config['epoch']):\n",
    "    \n",
    "    train_acc = train(dataloader=intent_dataloader_train, model=model, optimizer=optimizer)\n",
    "    dev_acc = val(dataloader=intent_dataloader_dev, model=model)\n",
    "    test_acc = val(dataloader=intent_dataloader_test, model=model)\n",
    "    \n",
    "    if val_acc > best_dev_acc:\n",
    "        best_dev_acc = val_acc\n",
    "        best_model = deepcopy(model)\n",
    "    \n",
    "    print('epoch: {}, train_acc: {}, dev_acc: {}: test_acc: {}'.format(i+1, train_acc, dev_acc, test_acc))\n",
    "    train_acc_list.append(train_acc)\n",
    "    dev_acc_list.append(dev_acc)\n",
    "    test_acc_list.append(test_acc)\n",
    "    \n",
    "    \n",
    "print('final test acc: {}'.format(val(dataloader=intent_dataloader_test, model=best_model)))"
   ]
  },
  {
   "cell_type": "code",
   "execution_count": 75,
   "metadata": {},
   "outputs": [],
   "source": [
    "import seaborn as sns\n",
    "import matplotlib.pyplot as plt"
   ]
  },
  {
   "cell_type": "code",
   "execution_count": 87,
   "metadata": {},
   "outputs": [
    {
     "data": {
      "text/plain": [
       "Text(0.5, 1.0, 'accuracy curves')"
      ]
     },
     "execution_count": 87,
     "metadata": {},
     "output_type": "execute_result"
    },
    {
     "data": {
      "image/png": "[encoded data removed]",
      "text/plain": [
       "<Figure size 432x288 with 1 Axes>"
      ]
     },
     "metadata": {
      "needs_background": "light"
     },
     "output_type": "display_data"
    }
   ],
   "source": [
    "plt.plot(train_acc_list, label='train')\n",
    "plt.plot(dev_acc_list, label='dev')\n",
    "plt.plot(test_acc_list, label='test')\n",
    "plt.legend()\n",
    "plt.xlabel('epoch')\n",
    "plt.ylabel('acc')\n",
    "plt.title('accuracy curves')"
   ]
  },
  {
   "cell_type": "code",
   "execution_count": null,
   "metadata": {},
   "outputs": [],
   "source": []
  }
 ],
 "metadata": {
  "kernelspec": {
   "display_name": "Python 3",
   "language": "python",
   "name": "python3"
  },
  "language_info": {
   "codemirror_mode": {
    "name": "ipython",
    "version": 3
   },
   "file_extension": ".py",
   "mimetype": "text/x-python",
   "name": "python",
   "nbconvert_exporter": "python",
   "pygments_lexer": "ipython3",
   "version": "3.8.8"
  }
 },
 "nbformat": 4,
 "nbformat_minor": 2
}
