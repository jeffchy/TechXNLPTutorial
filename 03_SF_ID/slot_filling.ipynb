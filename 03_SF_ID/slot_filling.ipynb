{
 "cells": [
  {
   "cell_type": "markdown",
   "metadata": {},
   "source": [
    "# Load data and word embeddings"
   ]
  },
  {
   "cell_type": "code",
   "execution_count": 1,
   "metadata": {},
   "outputs": [],
   "source": [
    "import pickle\n",
    "import numpy as np\n",
    "from tqdm.notebook import tqdm"
   ]
  },
  {
   "cell_type": "code",
   "execution_count": 2,
   "metadata": {},
   "outputs": [],
   "source": [
    "dset = pickle.load(open('data/dataset.pkl', 'rb'))\n",
    "emb = pickle.load(open('data/glove.100.emb', 'rb'))\n",
    "t2i, i2t, s2i, i2s, in2i, i2in = dset['t2i'], dset['i2t'], dset['s2i'], dset['i2s'], dset['in2i'], dset['i2in']\n",
    "query_train, slot_train, intent_train = dset['query_train'], dset['slot_train'], dset['intent_train']\n",
    "query_dev, slot_dev, intent_dev = dset['query_dev'], dset['slot_dev'], dset['intent_dev']\n",
    "query_test, slot_test, intent_test = dset['query_test'], dset['slot_test'], dset['intent_test']"
   ]
  },
  {
   "cell_type": "code",
   "execution_count": 3,
   "metadata": {},
   "outputs": [
    {
     "name": "stdout",
     "output_type": "stream",
     "text": [
      "Vocabulary size in dataset: 943\n",
      "Number of sentense class in dataset: 26\n",
      "Number of token class in dataset: 129\n",
      "Word embedding shape VxD: (943, 100)\n"
     ]
    }
   ],
   "source": [
    "print(\"Vocabulary size in dataset: {}\".format(len(t2i)))\n",
    "print(\"Number of sentense class in dataset: {}\".format(len(in2i)))\n",
    "print(\"Number of token class in dataset: {}\".format(len(s2i)))\n",
    "print(\"Word embedding shape VxD: {}\".format(emb.shape))"
   ]
  },
  {
   "cell_type": "code",
   "execution_count": 4,
   "metadata": {},
   "outputs": [],
   "source": [
    "def print_sample(i, query, slot):\n",
    "    print([i2t[k] for k in query[i]], i2in[intent_train[i][0]])\n",
    "    print([i2s[k] for k in slot[i]],  i2in[intent_train[i][0]])"
   ]
  },
  {
   "cell_type": "code",
   "execution_count": 5,
   "metadata": {},
   "outputs": [
    {
     "name": "stdout",
     "output_type": "stream",
     "text": [
      "['bos', 'please', 'list', 'information', 'regarding', 'san', 'francisco', 'airport', 'eos'] airport\n",
      "['o', 'o', 'o', 'o', 'o', 'b-airport_name', 'i-airport_name', 'i-airport_name', 'o'] airport\n"
     ]
    }
   ],
   "source": [
    "print_sample(1, query_train, slot_train)"
   ]
  },
  {
   "cell_type": "code",
   "execution_count": 6,
   "metadata": {},
   "outputs": [
    {
     "name": "stdout",
     "output_type": "stream",
     "text": [
      "['bos', 'show', 'me', 'the', 'flights', 'from', 'oakland', 'to', 'denver', 'eos'] flight\n",
      "['o', 'o', 'o', 'o', 'o', 'o', 'b-fromloc.city_name', 'o', 'b-toloc.city_name', 'o'] flight\n"
     ]
    }
   ],
   "source": [
    "print_sample(2, query_train, slot_train)"
   ]
  },
  {
   "cell_type": "code",
   "execution_count": 7,
   "metadata": {},
   "outputs": [
    {
     "name": "stdout",
     "output_type": "stream",
     "text": [
      "['bos', 'how', 'many', 'fare', 'codes', 'belong', 'to', 'economy', 'class', 'eos'] quantity\n",
      "['o', 'o', 'o', 'o', 'o', 'o', 'o', 'b-economy', 'i-economy', 'o'] quantity\n"
     ]
    }
   ],
   "source": [
    "print_sample(3, query_train, slot_train)"
   ]
  },
  {
   "cell_type": "markdown",
   "metadata": {},
   "source": [
    "# Pad datasets! query and slot"
   ]
  },
  {
   "cell_type": "markdown",
   "metadata": {},
   "source": [
    "We use an additional symbol \"pad\", pad the sentences and query to have same lengths, and record their original length"
   ]
  },
  {
   "cell_type": "code",
   "execution_count": 8,
   "metadata": {},
   "outputs": [],
   "source": [
    "from utils import pad_dataset\n",
    "\n",
    "# add <pad> into the vocabulary\n",
    "i2t[len(i2t)] = '<pad>'\n",
    "t2i['<pad>'] = len(i2t) - 1\n",
    "emb_padded = np.append(emb, np.zeros((1, 100)), axis=0)\n",
    "o_idx = s2i['o']\n",
    "\n",
    "\n",
    "seq_max_len = 30\n",
    "query_train_padded, train_lengths = pad_dataset(query_train, seq_max_len, t2i['<pad>'])\n",
    "query_dev_padded, dev_lengths = pad_dataset(query_dev, seq_max_len, t2i['<pad>'])\n",
    "query_test_padded, test_lengths = pad_dataset(query_test, seq_max_len, t2i['<pad>'])\n",
    "slot_train_padded, _ = pad_dataset(slot_train, seq_max_len, s2i['o'])\n",
    "slot_dev_padded, _ = pad_dataset(slot_dev, seq_max_len, s2i['o'])\n",
    "slot_test_padded, _ = pad_dataset(slot_test, seq_max_len, s2i['o'])"
   ]
  },
  {
   "cell_type": "code",
   "execution_count": 9,
   "metadata": {},
   "outputs": [
    {
     "name": "stdout",
     "output_type": "stream",
     "text": [
      "original lengths [11, 9, 10, 10, 10, 13, 11, 8, 11, 25]\n",
      "padded lengths [30, 30, 30, 30, 30, 30, 30, 30, 30, 30]\n",
      "example padded query: \n",
      "['bos', 'show', 'me', 'the', 'flights', 'from', 'oakland', 'to', 'denver', 'eos', '<pad>', '<pad>', '<pad>', '<pad>', '<pad>', '<pad>', '<pad>', '<pad>', '<pad>', '<pad>', '<pad>', '<pad>', '<pad>', '<pad>', '<pad>', '<pad>', '<pad>', '<pad>', '<pad>', '<pad>'] flight\n",
      "['o', 'o', 'o', 'o', 'o', 'o', 'b-fromloc.city_name', 'o', 'b-toloc.city_name', 'o', 'o', 'o', 'o', 'o', 'o', 'o', 'o', 'o', 'o', 'o', 'o', 'o', 'o', 'o', 'o', 'o', 'o', 'o', 'o', 'o'] flight\n"
     ]
    }
   ],
   "source": [
    "print(\"original lengths\", [len(query_train[i]) for i in range(10)])\n",
    "print(\"padded lengths\", [len(query_train_padded[i]) for i in range(10)])\n",
    "print(\"example padded query: \")\n",
    "print_sample(2, query_train_padded, slot_train_padded)"
   ]
  },
  {
   "cell_type": "markdown",
   "metadata": {},
   "source": [
    "# dataset and dataloader for slot filling and intent classification"
   ]
  },
  {
   "cell_type": "code",
   "execution_count": 10,
   "metadata": {},
   "outputs": [],
   "source": [
    "config = {\n",
    "    'bz': 100, # batch size\n",
    "    'rnn': 'LSTM',\n",
    "    'bidirection': True,\n",
    "    'rnn_hidden_dim': 100,\n",
    "    'epoch': 15,\n",
    "}"
   ]
  },
  {
   "cell_type": "code",
   "execution_count": 11,
   "metadata": {},
   "outputs": [],
   "source": [
    "from torch.utils.data import DataLoader, Dataset"
   ]
  },
  {
   "cell_type": "code",
   "execution_count": 12,
   "metadata": {},
   "outputs": [],
   "source": [
    "class SlotBatchDataset(Dataset):\n",
    "\n",
    "    def __init__(self, query, lengths, slot):\n",
    "        self.dataset = query\n",
    "        self.slot = slot\n",
    "        self.lengths = lengths\n",
    "\n",
    "    def __getitem__(self, idx):\n",
    "\n",
    "        return {\n",
    "            'x': np.array(self.dataset[idx], dtype=np.int32),\n",
    "            's': np.array(self.slot[idx], dtype=np.int32),\n",
    "            'l': np.array(self.lengths[idx], dtype=np.int32),\n",
    "        }\n",
    "\n",
    "    def __len__(self):\n",
    "        return len(self.dataset)"
   ]
  },
  {
   "cell_type": "code",
   "execution_count": 13,
   "metadata": {},
   "outputs": [],
   "source": [
    "slot_dataset_train = SlotBatchDataset(query_train_padded, train_lengths, slot_train_padded)\n",
    "slot_dataset_dev = SlotBatchDataset(query_dev_padded, dev_lengths, slot_dev_padded)\n",
    "slot_dataset_test = SlotBatchDataset(query_test_padded, test_lengths, slot_test_padded)"
   ]
  },
  {
   "cell_type": "code",
   "execution_count": 14,
   "metadata": {},
   "outputs": [],
   "source": [
    "bz = config['bz']\n",
    "slot_dataloader_train = DataLoader(slot_dataset_train, batch_size=bz)\n",
    "slot_dataloader_dev = DataLoader(slot_dataset_dev, batch_size=bz)\n",
    "slot_dataloader_test = DataLoader(slot_dataset_test, batch_size=bz)"
   ]
  },
  {
   "cell_type": "markdown",
   "metadata": {},
   "source": [
    "# Model for Slot Filling"
   ]
  },
  {
   "cell_type": "code",
   "execution_count": 55,
   "metadata": {},
   "outputs": [],
   "source": [
    "import torch\n",
    "from torch import nn\n",
    "from torch.nn.utils.rnn import pad_packed_sequence, pack_padded_sequence\n",
    "\n",
    "class SlotNeuralSoftmax(nn.Module):\n",
    "    def __init__(self, pretrained_embed, slot_size, config):\n",
    "        super(SlotNeuralSoftmax, self).__init__()\n",
    "\n",
    "        self.bidirection = config['bidirection']\n",
    "        self.directions = 2 if self.bidirection else 1\n",
    "        self.is_cuda = torch.cuda.is_available()\n",
    "        self.V, self.D = pretrained_embed.shape\n",
    "        self.rnn_type = config['rnn']\n",
    "        self.rnn_hidden_dim = config['rnn_hidden_dim'] // 2 if \\\n",
    "            self.bidirection else config['rnn_hidden_dim'] \n",
    "\n",
    "        self.slot_size = slot_size\n",
    "\n",
    "        self.loss = nn.CrossEntropyLoss()\n",
    "\n",
    "        if self.rnn_type == 'RNN':\n",
    "            self.rnn = nn.RNN(input_size=self.D,\n",
    "                              hidden_size=self.rnn_hidden_dim,\n",
    "                              num_layers=1,\n",
    "                              batch_first=True,\n",
    "                              bidirectional=self.bidirection,\n",
    "                              bias=False)\n",
    "\n",
    "        elif self.rnn_type == 'LSTM':\n",
    "            self.rnn = nn.LSTM(input_size=self.D,\n",
    "                               hidden_size=self.rnn_hidden_dim,\n",
    "                               num_layers=1,\n",
    "                               batch_first=True,\n",
    "                               bidirectional=self.bidirection,\n",
    "                               bias=False)\n",
    "\n",
    "        self.embedding = nn.Embedding.from_pretrained(torch.from_numpy(pretrained_embed).float(),\n",
    "                                                      freeze=True)  # V x D\n",
    "\n",
    "        self.linear = nn.Linear(self.directions * self.rnn_hidden_dim, self.slot_size)\n",
    "\n",
    "    def forward(self, input, label_slot, lengths):\n",
    "        input = self.embedding(input)  # B x L x D\n",
    "        pack_padded_seq_input = pack_padded_sequence(input, lengths.cpu(), batch_first=True, enforce_sorted=False)\n",
    "\n",
    "        B, L, D = input.size()\n",
    "\n",
    "        if self.rnn_type in ['RNN']:\n",
    "            output_packed, hn = self.rnn(pack_padded_seq_input)  # B x L x H\n",
    "        elif self.rnn_type == 'LSTM':\n",
    "            output_packed, (hn, cn) = self.rnn(pack_padded_seq_input)  # B x L x H\n",
    "\n",
    "        output_padded, output_lengths = pad_packed_sequence(output_packed, batch_first=True)\n",
    "\n",
    "        # slot filling\n",
    "        scores = self.linear(output_padded)  # B x L x C (C+2)\n",
    "\n",
    "        loss_slot, pred_labels_slot, flattened_true_label = \\\n",
    "            self.calculate_loss_slot(scores, label_slot, lengths)\n",
    "\n",
    "        return loss_slot, pred_labels_slot, flattened_true_label\n",
    "\n",
    "    def calculate_loss_slot(self, scores_slot, label_slot, lengths):\n",
    "        \n",
    "        flattened_true_label = flatten(label_slot, lengths)\n",
    "        flattened_all_scores = flatten(scores_slot, lengths)\n",
    "        \n",
    "        loss_slot = self.loss(flattened_all_scores, flattened_true_label)\n",
    "\n",
    "        _, pred_labels_slot = flattened_all_scores.max(dim=1)\n",
    "\n",
    "        return loss_slot, pred_labels_slot, flattened_true_label"
   ]
  },
  {
   "cell_type": "markdown",
   "metadata": {},
   "source": [
    "# init model and optimizer"
   ]
  },
  {
   "cell_type": "code",
   "execution_count": 56,
   "metadata": {},
   "outputs": [
    {
     "name": "stdout",
     "output_type": "stream",
     "text": [
      "ALL TRAINABLE PARAMETERS: 73029\n",
      "SlotNeuralSoftmax(\n",
      "  (loss): CrossEntropyLoss()\n",
      "  (rnn): LSTM(100, 50, bias=False, batch_first=True, bidirectional=True)\n",
      "  (embedding): Embedding(944, 100)\n",
      "  (linear): Linear(in_features=100, out_features=129, bias=True)\n",
      ")\n"
     ]
    }
   ],
   "source": [
    "# for padding\n",
    "model = SlotNeuralSoftmax(pretrained_embed=emb_padded,\n",
    "                          slot_size=len(s2i),\n",
    "                          config=config)\n",
    "\n",
    "pytorch_total_params = sum(p.numel() for p in model.parameters() if p.requires_grad)\n",
    "print('ALL TRAINABLE PARAMETERS: {}'.format(pytorch_total_params))\n",
    "\n",
    "optimizer = torch.optim.Adam(model.parameters(), lr=0.001, weight_decay=0)\n",
    "print(model)"
   ]
  },
  {
   "cell_type": "code",
   "execution_count": 57,
   "metadata": {},
   "outputs": [],
   "source": [
    "from utils import eval_seq_token, flatten\n",
    "\n",
    "def val(data, model):\n",
    "    all_pred_slot_label = []\n",
    "    all_true_slot_label = []\n",
    "    all_lengths = []\n",
    "    model.eval()\n",
    "    with torch.no_grad():\n",
    "\n",
    "        for batch in data:\n",
    "\n",
    "            x = batch['x'].long()\n",
    "            label_slot = batch['s'].long()\n",
    "            lengths = batch['l'].long()\n",
    "\n",
    "            # # code for global method\n",
    "            loss_slot, pred_slot_label, true_slot_label = model(x, label_slot, lengths)\n",
    "\n",
    "            all_pred_slot_label += list(pred_slot_label.cpu())\n",
    "            all_true_slot_label += list(true_slot_label.cpu())\n",
    "            all_lengths += list(lengths.cpu())\n",
    "\n",
    "    acc, p, r, f = eval_seq_token(\n",
    "        seq_label_pred=all_pred_slot_label, \n",
    "        seq_label_true=all_true_slot_label, \n",
    "        o_idx=o_idx)\n",
    "\n",
    "    model.train()\n",
    "    return acc, p, r, f\n",
    "\n",
    "def train(data, model, optimizer):\n",
    "    all_pred_slot_label = []\n",
    "    all_true_slot_label = []\n",
    "    all_lengths = []\n",
    "    \n",
    "    for batch in data:\n",
    "        \n",
    "        optimizer.zero_grad()\n",
    "\n",
    "        x = batch['x'].long()\n",
    "        label_slot = batch['s'].long()\n",
    "        lengths = batch['l'].long()\n",
    "\n",
    "        loss_slot, pred_slot_label, true_slot_label = model(x, label_slot, lengths)\n",
    "        loss_slot.backward()\n",
    "        optimizer.step()\n",
    "\n",
    "        all_pred_slot_label += list(pred_slot_label.cpu())\n",
    "        all_true_slot_label += list(true_slot_label.cpu())\n",
    "        all_lengths += list(lengths.cpu())\n",
    "\n",
    "    acc, p, r, f = eval_seq_token(\n",
    "        seq_label_pred=all_pred_slot_label, \n",
    "        seq_label_true=all_true_slot_label, \n",
    "        o_idx=o_idx)\n",
    "\n",
    "    return acc, p, r, f"
   ]
  },
  {
   "cell_type": "markdown",
   "metadata": {},
   "source": [
    "# train and evaluation, do not use test for hyper-params tuning"
   ]
  },
  {
   "cell_type": "code",
   "execution_count": 58,
   "metadata": {},
   "outputs": [],
   "source": [
    "from copy import deepcopy\n",
    "\n",
    "train_f1_list = []\n",
    "dev_f1_list = []\n",
    "test_f1_list = [] # just for visualization\n",
    "\n",
    "best_dev_f1 = -1\n",
    "best_model = model"
   ]
  },
  {
   "cell_type": "code",
   "execution_count": 59,
   "metadata": {},
   "outputs": [
    {
     "name": "stdout",
     "output_type": "stream",
     "text": [
      "epoch: 1, train_f1: 0.0006312277379503132, dev_f1: 0: test_f1: 0\n",
      "epoch: 2, train_f1: 0.09917727938690409, dev_f1: 0.3517183570829841: test_f1: 0.32600514953456133\n",
      "epoch: 3, train_f1: 0.42910764015013925, dev_f1: 0.4647780639297076: test_f1: 0.44745879120879123\n",
      "epoch: 4, train_f1: 0.5352376668166142, dev_f1: 0.5519296254256526: test_f1: 0.5319961795606495\n",
      "epoch: 5, train_f1: 0.6275122505503871, dev_f1: 0.6828540423223006: test_f1: 0.6669713589274833\n",
      "epoch: 6, train_f1: 0.7356259344841647, dev_f1: 0.741273369067852: test_f1: 0.7510010381135993\n",
      "epoch: 7, train_f1: 0.7744793388429753, dev_f1: 0.7722442709000128: test_f1: 0.7815420560747663\n",
      "epoch: 8, train_f1: 0.8024406867677129, dev_f1: 0.7966594963937744: test_f1: 0.7994814174589456\n",
      "epoch: 9, train_f1: 0.8206577595066803, dev_f1: 0.8112308849335673: test_f1: 0.8160755148741419\n",
      "epoch: 10, train_f1: 0.8385225787947354, dev_f1: 0.8271220241804811: test_f1: 0.823679727427598\n",
      "epoch: 11, train_f1: 0.8510395537525356, dev_f1: 0.8365396549584212: test_f1: 0.8259887005649718\n",
      "epoch: 12, train_f1: 0.8604482552091542, dev_f1: 0.8432365657813465: test_f1: 0.8356029762740418\n",
      "epoch: 13, train_f1: 0.87005614277201, dev_f1: 0.8539132571568989: test_f1: 0.8435754189944135\n",
      "epoch: 14, train_f1: 0.8814766232549424, dev_f1: 0.8633023027927488: test_f1: 0.8533184606804238\n",
      "epoch: 15, train_f1: 0.8927770859277707, dev_f1: 0.872802734375: test_f1: 0.86266870738834\n",
      "final test acc: (0.9477183714363785, 0.8801817149346962, 0.8458390177353342, 0.86266870738834)\n"
     ]
    }
   ],
   "source": [
    "for i in range(config['epoch']):\n",
    "    \n",
    "    train_acc, train_p, train_r, train_f1 = train(data=slot_dataloader_train, model=model, optimizer=optimizer)\n",
    "    dev_acc, dev_p, dev_r, dev_f1 = val(data=slot_dataloader_dev, model=model)\n",
    "    test_acc, test_p, test_r, test_f1 = val(data=slot_dataloader_test, model=model)\n",
    "    \n",
    "    if dev_f1 > best_dev_f1:\n",
    "        best_dev_acc = dev_f1\n",
    "        best_model = deepcopy(model)\n",
    "    \n",
    "    print('epoch: {}, train_f1: {}, dev_f1: {}: test_f1: {}'.format(i+1, train_f1, dev_f1, test_f1))\n",
    "    train_f1_list.append(train_f1)\n",
    "    dev_f1_list.append(dev_f1)\n",
    "    test_f1_list.append(test_f1)\n",
    "\n",
    "    \n",
    "print('final test acc: {}'.format(val(data=slot_dataloader_test, model=best_model)))"
   ]
  },
  {
   "cell_type": "code",
   "execution_count": 62,
   "metadata": {},
   "outputs": [],
   "source": [
    "import seaborn as sns\n",
    "import matplotlib.pyplot as plt"
   ]
  },
  {
   "cell_type": "code",
   "execution_count": 64,
   "metadata": {},
   "outputs": [
    {
     "data": {
      "text/plain": [
       "Text(0.5, 1.0, 'accuracy curves')"
      ]
     },
     "execution_count": 64,
     "metadata": {},
     "output_type": "execute_result"
    },
    {
     "data": {
      "image/png": "[encoded data removed]",
      "text/plain": [
       "<Figure size 432x288 with 1 Axes>"
      ]
     },
     "metadata": {
      "needs_background": "light"
     },
     "output_type": "display_data"
    }
   ],
   "source": [
    "plt.plot(train_f1_list, label='train')\n",
    "plt.plot(dev_f1_list, label='dev')\n",
    "plt.plot(test_f1_list, label='test')\n",
    "plt.legend()\n",
    "plt.xlabel('epoch')\n",
    "plt.ylabel('acc')\n",
    "plt.title('accuracy curves')"
   ]
  },
  {
   "cell_type": "code",
   "execution_count": null,
   "metadata": {},
   "outputs": [],
   "source": []
  },
  {
   "cell_type": "code",
   "execution_count": null,
   "metadata": {},
   "outputs": [],
   "source": []
  },
  {
   "cell_type": "code",
   "execution_count": null,
   "metadata": {},
   "outputs": [],
   "source": []
  },
  {
   "cell_type": "code",
   "execution_count": null,
   "metadata": {},
   "outputs": [],
   "source": []
  }
 ],
 "metadata": {
  "kernelspec": {
   "display_name": "Python 3",
   "language": "python",
   "name": "python3"
  },
  "language_info": {
   "codemirror_mode": {
    "name": "ipython",
    "version": 3
   },
   "file_extension": ".py",
   "mimetype": "text/x-python",
   "name": "python",
   "nbconvert_exporter": "python",
   "pygments_lexer": "ipython3",
   "version": "3.8.8"
  }
 },
 "nbformat": 4,
 "nbformat_minor": 2
}
